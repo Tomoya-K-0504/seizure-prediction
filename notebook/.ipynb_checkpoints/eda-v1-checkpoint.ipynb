{
 "cells": [
  {
   "cell_type": "code",
   "execution_count": 105,
   "metadata": {
    "ExecuteTime": {
     "end_time": "2019-03-10T16:20:33.274079Z",
     "start_time": "2019-03-10T16:20:33.269001Z"
    }
   },
   "outputs": [],
   "source": [
    "import os\n",
    "import pdb\n",
    "import sys\n",
    "from pathlib import Path\n",
    "\n",
    "import matplotlib.pyplot as plt\n",
    "import numpy as np\n",
    "import pandas as pd\n",
    "\n",
    "%matplotlib inline\n",
    "\n",
    "data_dir = Path('../input')\n",
    "model_dir = Path('../model')\n",
    "out_dir = Path('../output')"
   ]
  },
  {
   "cell_type": "markdown",
   "metadata": {},
   "source": [
    "## Additional imports and functions"
   ]
  },
  {
   "cell_type": "code",
   "execution_count": 106,
   "metadata": {
    "ExecuteTime": {
     "end_time": "2019-03-10T16:20:33.311175Z",
     "start_time": "2019-03-10T16:20:33.275507Z"
    }
   },
   "outputs": [],
   "source": [
    "import scipy.io"
   ]
  },
  {
   "cell_type": "code",
   "execution_count": 107,
   "metadata": {
    "ExecuteTime": {
     "end_time": "2019-03-10T16:20:33.321067Z",
     "start_time": "2019-03-10T16:20:33.312659Z"
    }
   },
   "outputs": [],
   "source": [
    "def load_mat(mat):\n",
    "    data = {}\n",
    "    for i, key in enumerate(mat['interictal_segment_1'].dtype.names):\n",
    "        data[key] = mat['interictal_segment_1'][0][0][i]\n",
    "    return data"
   ]
  },
  {
   "cell_type": "code",
   "execution_count": 108,
   "metadata": {
    "ExecuteTime": {
     "end_time": "2019-03-10T16:20:33.333095Z",
     "start_time": "2019-03-10T16:20:33.322454Z"
    }
   },
   "outputs": [],
   "source": [
    "def info_mat(data):\n",
    "    print('Data: \\n {}'.format(data['data']))\n",
    "    print('Data Shape: \\t {}'.format(data['data'].shape))\n",
    "    print('Data length sec: \\t {}'.format(data['data_length_sec'][0][0]))\n",
    "    print('Data sampling frequency: \\t {}'.format(data['sampling_frequency'][0][0]))\n",
    "    print('All channels: \\n {}'.format(data['channels'][0]))\n",
    "    print('Number of channels: \\t {}'.format(len(data['channels'][0])))\n",
    "    print('Data sequense: \\t {}'.format(data['sequence'][0][0]))"
   ]
  },
  {
   "cell_type": "code",
   "execution_count": null,
   "metadata": {},
   "outputs": [],
   "source": []
  },
  {
   "cell_type": "markdown",
   "metadata": {},
   "source": [
    "## Start EDA"
   ]
  },
  {
   "cell_type": "markdown",
   "metadata": {},
   "source": [
    "### Dog_1"
   ]
  },
  {
   "cell_type": "code",
   "execution_count": 109,
   "metadata": {
    "ExecuteTime": {
     "end_time": "2019-03-10T16:20:33.472620Z",
     "start_time": "2019-03-10T16:20:33.335907Z"
    }
   },
   "outputs": [
    {
     "name": "stdout",
     "output_type": "stream",
     "text": [
      "Dog_1_interictal_segment_0001.mat  Dog_1_preictal_segment_0024.mat\r\n",
      "Dog_1_interictal_segment_0002.mat  Dog_1_test_segment_0001.mat\r\n",
      "Dog_1_interictal_segment_0003.mat  Dog_1_test_segment_0002.mat\r\n",
      "Dog_1_interictal_segment_0004.mat  Dog_1_test_segment_0003.mat\r\n",
      "Dog_1_interictal_segment_0005.mat  Dog_1_test_segment_0004.mat\r\n",
      "Dog_1_interictal_segment_0006.mat  Dog_1_test_segment_0005.mat\r\n",
      "Dog_1_interictal_segment_0007.mat  Dog_1_test_segment_0006.mat\r\n",
      "Dog_1_interictal_segment_0008.mat  Dog_1_test_segment_0007.mat\r\n",
      "Dog_1_interictal_segment_0009.mat  Dog_1_test_segment_0008.mat\r\n",
      "Dog_1_interictal_segment_0010.mat  Dog_1_test_segment_0009.mat\r\n",
      "Dog_1_interictal_segment_0011.mat  Dog_1_test_segment_0010.mat\r\n",
      "Dog_1_interictal_segment_0012.mat  Dog_1_test_segment_0011.mat\r\n",
      "Dog_1_interictal_segment_0013.mat  Dog_1_test_segment_0012.mat\r\n",
      "Dog_1_interictal_segment_0014.mat  Dog_1_test_segment_0013.mat\r\n",
      "Dog_1_interictal_segment_0015.mat  Dog_1_test_segment_0014.mat\r\n",
      "Dog_1_interictal_segment_0016.mat  Dog_1_test_segment_0015.mat\r\n",
      "Dog_1_interictal_segment_0017.mat  Dog_1_test_segment_0016.mat\r\n",
      "Dog_1_interictal_segment_0018.mat  Dog_1_test_segment_0017.mat\r\n",
      "Dog_1_interictal_segment_0019.mat  Dog_1_test_segment_0018.mat\r\n",
      "Dog_1_interictal_segment_0020.mat  Dog_1_test_segment_0019.mat\r\n",
      "Dog_1_interictal_segment_0021.mat  Dog_1_test_segment_0020.mat\r\n",
      "Dog_1_interictal_segment_0022.mat  Dog_1_test_segment_0021.mat\r\n",
      "Dog_1_interictal_segment_0023.mat  Dog_1_test_segment_0022.mat\r\n",
      "Dog_1_interictal_segment_0024.mat  Dog_1_test_segment_0023.mat\r\n",
      "Dog_1_interictal_segment_0025.mat  Dog_1_test_segment_0024.mat\r\n",
      "Dog_1_interictal_segment_0026.mat  Dog_1_test_segment_0025.mat\r\n",
      "Dog_1_interictal_segment_0027.mat  Dog_1_test_segment_0026.mat\r\n",
      "Dog_1_interictal_segment_0028.mat  Dog_1_test_segment_0027.mat\r\n",
      "Dog_1_interictal_segment_0029.mat  Dog_1_test_segment_0028.mat\r\n",
      "Dog_1_interictal_segment_0030.mat  Dog_1_test_segment_0029.mat\r\n",
      "Dog_1_interictal_segment_0031.mat  Dog_1_test_segment_0030.mat\r\n",
      "Dog_1_interictal_segment_0032.mat  Dog_1_test_segment_0031.mat\r\n",
      "Dog_1_interictal_segment_0033.mat  Dog_1_test_segment_0032.mat\r\n",
      "Dog_1_interictal_segment_0034.mat  Dog_1_test_segment_0033.mat\r\n",
      "Dog_1_interictal_segment_0035.mat  Dog_1_test_segment_0034.mat\r\n",
      "Dog_1_interictal_segment_0036.mat  Dog_1_test_segment_0035.mat\r\n",
      "Dog_1_interictal_segment_0037.mat  Dog_1_test_segment_0036.mat\r\n",
      "Dog_1_interictal_segment_0038.mat  Dog_1_test_segment_0037.mat\r\n",
      "Dog_1_interictal_segment_0039.mat  Dog_1_test_segment_0038.mat\r\n",
      "Dog_1_interictal_segment_0040.mat  Dog_1_test_segment_0039.mat\r\n",
      "Dog_1_interictal_segment_0041.mat  Dog_1_test_segment_0040.mat\r\n",
      "Dog_1_interictal_segment_0042.mat  Dog_1_test_segment_0041.mat\r\n",
      "Dog_1_interictal_segment_0043.mat  Dog_1_test_segment_0042.mat\r\n",
      "Dog_1_interictal_segment_0044.mat  Dog_1_test_segment_0043.mat\r\n",
      "Dog_1_interictal_segment_0045.mat  Dog_1_test_segment_0044.mat\r\n",
      "Dog_1_interictal_segment_0046.mat  Dog_1_test_segment_0045.mat\r\n",
      "Dog_1_interictal_segment_0047.mat  Dog_1_test_segment_0046.mat\r\n",
      "Dog_1_interictal_segment_0048.mat  Dog_1_test_segment_0047.mat\r\n",
      "Dog_1_interictal_segment_0049.mat  Dog_1_test_segment_0048.mat\r\n",
      "Dog_1_interictal_segment_0050.mat  Dog_1_test_segment_0049.mat\r\n",
      "Dog_1_interictal_segment_0051.mat  Dog_1_test_segment_0050.mat\r\n",
      "Dog_1_interictal_segment_0052.mat  Dog_1_test_segment_0051.mat\r\n",
      "Dog_1_interictal_segment_0053.mat  Dog_1_test_segment_0052.mat\r\n",
      "Dog_1_interictal_segment_0054.mat  Dog_1_test_segment_0053.mat\r\n",
      "Dog_1_interictal_segment_0055.mat  Dog_1_test_segment_0054.mat\r\n",
      "Dog_1_interictal_segment_0056.mat  Dog_1_test_segment_0055.mat\r\n",
      "Dog_1_interictal_segment_0057.mat  Dog_1_test_segment_0056.mat\r\n",
      "Dog_1_interictal_segment_0058.mat  Dog_1_test_segment_0057.mat\r\n",
      "Dog_1_interictal_segment_0059.mat  Dog_1_test_segment_0058.mat\r\n",
      "Dog_1_interictal_segment_0060.mat  Dog_1_test_segment_0059.mat\r\n",
      "Dog_1_interictal_segment_0061.mat  Dog_1_test_segment_0060.mat\r\n",
      "Dog_1_interictal_segment_0062.mat  Dog_1_test_segment_0061.mat\r\n",
      "Dog_1_interictal_segment_0063.mat  Dog_1_test_segment_0062.mat\r\n",
      "Dog_1_interictal_segment_0064.mat  Dog_1_test_segment_0063.mat\r\n",
      "Dog_1_interictal_segment_0065.mat  Dog_1_test_segment_0064.mat\r\n",
      "Dog_1_interictal_segment_0066.mat  Dog_1_test_segment_0065.mat\r\n",
      "Dog_1_interictal_segment_0067.mat  Dog_1_test_segment_0066.mat\r\n",
      "Dog_1_interictal_segment_0068.mat  Dog_1_test_segment_0067.mat\r\n",
      "Dog_1_interictal_segment_0069.mat  Dog_1_test_segment_0068.mat\r\n",
      "Dog_1_interictal_segment_0070.mat  Dog_1_test_segment_0069.mat\r\n",
      "Dog_1_interictal_segment_0071.mat  Dog_1_test_segment_0070.mat\r\n",
      "Dog_1_interictal_segment_0072.mat  Dog_1_test_segment_0071.mat\r\n",
      "Dog_1_interictal_segment_0073.mat  Dog_1_test_segment_0072.mat\r\n",
      "Dog_1_interictal_segment_0074.mat  Dog_1_test_segment_0073.mat\r\n",
      "Dog_1_interictal_segment_0075.mat  Dog_1_test_segment_0074.mat\r\n",
      "Dog_1_interictal_segment_0076.mat  Dog_1_test_segment_0075.mat\r\n",
      "Dog_1_interictal_segment_0077.mat  Dog_1_test_segment_0076.mat\r\n",
      "Dog_1_interictal_segment_0078.mat  Dog_1_test_segment_0077.mat\r\n",
      "Dog_1_interictal_segment_0079.mat  Dog_1_test_segment_0078.mat\r\n",
      "Dog_1_interictal_segment_0080.mat  Dog_1_test_segment_0079.mat\r\n",
      "Dog_1_interictal_segment_0081.mat  Dog_1_test_segment_0080.mat\r\n",
      "Dog_1_interictal_segment_0082.mat  Dog_1_test_segment_0081.mat\r\n",
      "Dog_1_interictal_segment_0083.mat  Dog_1_test_segment_0082.mat\r\n",
      "Dog_1_interictal_segment_0084.mat  Dog_1_test_segment_0083.mat\r\n",
      "Dog_1_interictal_segment_0085.mat  Dog_1_test_segment_0084.mat\r\n",
      "Dog_1_interictal_segment_0086.mat  Dog_1_test_segment_0085.mat\r\n",
      "Dog_1_interictal_segment_0087.mat  Dog_1_test_segment_0086.mat\r\n",
      "Dog_1_interictal_segment_0088.mat  Dog_1_test_segment_0087.mat\r\n",
      "Dog_1_interictal_segment_0089.mat  Dog_1_test_segment_0088.mat\r\n",
      "Dog_1_interictal_segment_0090.mat  Dog_1_test_segment_0089.mat\r\n",
      "Dog_1_interictal_segment_0091.mat  Dog_1_test_segment_0090.mat\r\n",
      "Dog_1_interictal_segment_0092.mat  Dog_1_test_segment_0091.mat\r\n",
      "Dog_1_interictal_segment_0093.mat  Dog_1_test_segment_0092.mat\r\n",
      "Dog_1_interictal_segment_0094.mat  Dog_1_test_segment_0093.mat\r\n",
      "Dog_1_interictal_segment_0095.mat  Dog_1_test_segment_0094.mat\r\n",
      "Dog_1_interictal_segment_0096.mat  Dog_1_test_segment_0095.mat\r\n",
      "Dog_1_interictal_segment_0097.mat  Dog_1_test_segment_0096.mat\r\n",
      "Dog_1_interictal_segment_0098.mat  Dog_1_test_segment_0097.mat\r\n",
      "Dog_1_interictal_segment_0099.mat  Dog_1_test_segment_0098.mat\r\n",
      "Dog_1_interictal_segment_0100.mat  Dog_1_test_segment_0099.mat\r\n",
      "Dog_1_interictal_segment_0101.mat  Dog_1_test_segment_0100.mat\r\n",
      "Dog_1_interictal_segment_0102.mat  Dog_1_test_segment_0101.mat\r\n",
      "Dog_1_interictal_segment_0103.mat  Dog_1_test_segment_0102.mat\r\n",
      "Dog_1_interictal_segment_0104.mat  Dog_1_test_segment_0103.mat\r\n",
      "Dog_1_interictal_segment_0105.mat  Dog_1_test_segment_0104.mat\r\n",
      "Dog_1_interictal_segment_0106.mat  Dog_1_test_segment_0105.mat\r\n",
      "Dog_1_interictal_segment_0107.mat  Dog_1_test_segment_0106.mat\r\n",
      "Dog_1_interictal_segment_0108.mat  Dog_1_test_segment_0107.mat\r\n",
      "Dog_1_interictal_segment_0109.mat  Dog_1_test_segment_0108.mat\r\n",
      "Dog_1_interictal_segment_0110.mat  Dog_1_test_segment_0109.mat\r\n",
      "Dog_1_interictal_segment_0111.mat  Dog_1_test_segment_0110.mat\r\n",
      "Dog_1_interictal_segment_0112.mat  Dog_1_test_segment_0111.mat\r\n",
      "Dog_1_interictal_segment_0113.mat  Dog_1_test_segment_0112.mat\r\n",
      "Dog_1_interictal_segment_0114.mat  Dog_1_test_segment_0113.mat\r\n",
      "Dog_1_interictal_segment_0115.mat  Dog_1_test_segment_0114.mat\r\n",
      "Dog_1_interictal_segment_0116.mat  Dog_1_test_segment_0115.mat\r\n",
      "Dog_1_interictal_segment_0117.mat  Dog_1_test_segment_0116.mat\r\n",
      "Dog_1_interictal_segment_0118.mat  Dog_1_test_segment_0117.mat\r\n",
      "Dog_1_interictal_segment_0119.mat  Dog_1_test_segment_0118.mat\r\n",
      "Dog_1_interictal_segment_0120.mat  Dog_1_test_segment_0119.mat\r\n",
      "Dog_1_interictal_segment_0121.mat  Dog_1_test_segment_0120.mat\r\n",
      "Dog_1_interictal_segment_0122.mat  Dog_1_test_segment_0121.mat\r\n",
      "Dog_1_interictal_segment_0123.mat  Dog_1_test_segment_0122.mat\r\n",
      "Dog_1_interictal_segment_0124.mat  Dog_1_test_segment_0123.mat\r\n",
      "Dog_1_interictal_segment_0125.mat  Dog_1_test_segment_0124.mat\r\n",
      "Dog_1_interictal_segment_0126.mat  Dog_1_test_segment_0125.mat\r\n",
      "Dog_1_interictal_segment_0127.mat  Dog_1_test_segment_0126.mat\r\n",
      "Dog_1_interictal_segment_0128.mat  Dog_1_test_segment_0127.mat\r\n",
      "Dog_1_interictal_segment_0129.mat  Dog_1_test_segment_0128.mat\r\n",
      "Dog_1_interictal_segment_0130.mat  Dog_1_test_segment_0129.mat\r\n",
      "Dog_1_interictal_segment_0131.mat  Dog_1_test_segment_0130.mat\r\n",
      "Dog_1_interictal_segment_0132.mat  Dog_1_test_segment_0131.mat\r\n",
      "Dog_1_interictal_segment_0133.mat  Dog_1_test_segment_0132.mat\r\n",
      "Dog_1_interictal_segment_0134.mat  Dog_1_test_segment_0133.mat\r\n",
      "Dog_1_interictal_segment_0135.mat  Dog_1_test_segment_0134.mat\r\n",
      "Dog_1_interictal_segment_0136.mat  Dog_1_test_segment_0135.mat\r\n",
      "Dog_1_interictal_segment_0137.mat  Dog_1_test_segment_0136.mat\r\n",
      "Dog_1_interictal_segment_0138.mat  Dog_1_test_segment_0137.mat\r\n",
      "Dog_1_interictal_segment_0139.mat  Dog_1_test_segment_0138.mat\r\n",
      "Dog_1_interictal_segment_0140.mat  Dog_1_test_segment_0139.mat\r\n",
      "Dog_1_interictal_segment_0141.mat  Dog_1_test_segment_0140.mat\r\n",
      "Dog_1_interictal_segment_0142.mat  Dog_1_test_segment_0141.mat\r\n",
      "Dog_1_interictal_segment_0143.mat  Dog_1_test_segment_0142.mat\r\n",
      "Dog_1_interictal_segment_0144.mat  Dog_1_test_segment_0143.mat\r\n",
      "Dog_1_interictal_segment_0145.mat  Dog_1_test_segment_0144.mat\r\n",
      "Dog_1_interictal_segment_0146.mat  Dog_1_test_segment_0145.mat\r\n",
      "Dog_1_interictal_segment_0147.mat  Dog_1_test_segment_0146.mat\r\n",
      "Dog_1_interictal_segment_0148.mat  Dog_1_test_segment_0147.mat\r\n",
      "Dog_1_interictal_segment_0149.mat  Dog_1_test_segment_0148.mat\r\n",
      "Dog_1_interictal_segment_0150.mat  Dog_1_test_segment_0149.mat\r\n",
      "Dog_1_interictal_segment_0151.mat  Dog_1_test_segment_0150.mat\r\n",
      "Dog_1_interictal_segment_0152.mat  Dog_1_test_segment_0151.mat\r\n",
      "Dog_1_interictal_segment_0153.mat  Dog_1_test_segment_0152.mat\r\n",
      "Dog_1_interictal_segment_0154.mat  Dog_1_test_segment_0153.mat\r\n",
      "Dog_1_interictal_segment_0155.mat  Dog_1_test_segment_0154.mat\r\n",
      "Dog_1_interictal_segment_0156.mat  Dog_1_test_segment_0155.mat\r\n",
      "Dog_1_interictal_segment_0157.mat  Dog_1_test_segment_0156.mat\r\n",
      "Dog_1_interictal_segment_0158.mat  Dog_1_test_segment_0157.mat\r\n",
      "Dog_1_interictal_segment_0159.mat  Dog_1_test_segment_0158.mat\r\n",
      "Dog_1_interictal_segment_0160.mat  Dog_1_test_segment_0159.mat\r\n",
      "Dog_1_interictal_segment_0161.mat  Dog_1_test_segment_0160.mat\r\n",
      "Dog_1_interictal_segment_0162.mat  Dog_1_test_segment_0161.mat\r\n",
      "Dog_1_interictal_segment_0163.mat  Dog_1_test_segment_0162.mat\r\n",
      "Dog_1_interictal_segment_0164.mat  Dog_1_test_segment_0163.mat\r\n",
      "Dog_1_interictal_segment_0165.mat  Dog_1_test_segment_0164.mat\r\n",
      "Dog_1_interictal_segment_0166.mat  Dog_1_test_segment_0165.mat\r\n",
      "Dog_1_interictal_segment_0167.mat  Dog_1_test_segment_0166.mat\r\n",
      "Dog_1_interictal_segment_0168.mat  Dog_1_test_segment_0167.mat\r\n",
      "Dog_1_interictal_segment_0169.mat  Dog_1_test_segment_0168.mat\r\n",
      "Dog_1_interictal_segment_0170.mat  Dog_1_test_segment_0169.mat\r\n",
      "Dog_1_interictal_segment_0171.mat  Dog_1_test_segment_0170.mat\r\n",
      "Dog_1_interictal_segment_0172.mat  Dog_1_test_segment_0171.mat\r\n",
      "Dog_1_interictal_segment_0173.mat  Dog_1_test_segment_0172.mat\r\n",
      "Dog_1_interictal_segment_0174.mat  Dog_1_test_segment_0173.mat\r\n",
      "Dog_1_interictal_segment_0175.mat  Dog_1_test_segment_0174.mat\r\n",
      "Dog_1_interictal_segment_0176.mat  Dog_1_test_segment_0175.mat\r\n",
      "Dog_1_interictal_segment_0177.mat  Dog_1_test_segment_0176.mat\r\n",
      "Dog_1_interictal_segment_0178.mat  Dog_1_test_segment_0177.mat\r\n",
      "Dog_1_interictal_segment_0179.mat  Dog_1_test_segment_0178.mat\r\n",
      "Dog_1_interictal_segment_0180.mat  Dog_1_test_segment_0179.mat\r\n",
      "Dog_1_interictal_segment_0181.mat  Dog_1_test_segment_0180.mat\r\n",
      "Dog_1_interictal_segment_0182.mat  Dog_1_test_segment_0181.mat\r\n",
      "Dog_1_interictal_segment_0183.mat  Dog_1_test_segment_0182.mat\r\n",
      "Dog_1_interictal_segment_0184.mat  Dog_1_test_segment_0183.mat\r\n",
      "Dog_1_interictal_segment_0185.mat  Dog_1_test_segment_0184.mat\r\n",
      "Dog_1_interictal_segment_0186.mat  Dog_1_test_segment_0185.mat\r\n",
      "Dog_1_interictal_segment_0187.mat  Dog_1_test_segment_0186.mat\r\n",
      "Dog_1_interictal_segment_0188.mat  Dog_1_test_segment_0187.mat\r\n",
      "Dog_1_interictal_segment_0189.mat  Dog_1_test_segment_0188.mat\r\n",
      "Dog_1_interictal_segment_0190.mat  Dog_1_test_segment_0189.mat\r\n",
      "Dog_1_interictal_segment_0191.mat  Dog_1_test_segment_0190.mat\r\n",
      "Dog_1_interictal_segment_0192.mat  Dog_1_test_segment_0191.mat\r\n",
      "Dog_1_interictal_segment_0193.mat  Dog_1_test_segment_0192.mat\r\n",
      "Dog_1_interictal_segment_0194.mat  Dog_1_test_segment_0193.mat\r\n",
      "Dog_1_interictal_segment_0195.mat  Dog_1_test_segment_0194.mat\r\n",
      "Dog_1_interictal_segment_0196.mat  Dog_1_test_segment_0195.mat\r\n",
      "Dog_1_interictal_segment_0197.mat  Dog_1_test_segment_0196.mat\r\n",
      "Dog_1_interictal_segment_0198.mat  Dog_1_test_segment_0197.mat\r\n",
      "Dog_1_interictal_segment_0199.mat  Dog_1_test_segment_0198.mat\r\n",
      "Dog_1_interictal_segment_0200.mat  Dog_1_test_segment_0199.mat\r\n",
      "Dog_1_interictal_segment_0201.mat  Dog_1_test_segment_0200.mat\r\n",
      "Dog_1_interictal_segment_0202.mat  Dog_1_test_segment_0201.mat\r\n",
      "Dog_1_interictal_segment_0203.mat  Dog_1_test_segment_0202.mat\r\n",
      "Dog_1_interictal_segment_0204.mat  Dog_1_test_segment_0203.mat\r\n",
      "Dog_1_interictal_segment_0205.mat  Dog_1_test_segment_0204.mat\r\n",
      "Dog_1_interictal_segment_0206.mat  Dog_1_test_segment_0205.mat\r\n",
      "Dog_1_interictal_segment_0207.mat  Dog_1_test_segment_0206.mat\r\n",
      "Dog_1_interictal_segment_0208.mat  Dog_1_test_segment_0207.mat\r\n",
      "Dog_1_interictal_segment_0209.mat  Dog_1_test_segment_0208.mat\r\n",
      "Dog_1_interictal_segment_0210.mat  Dog_1_test_segment_0209.mat\r\n",
      "Dog_1_interictal_segment_0211.mat  Dog_1_test_segment_0210.mat\r\n",
      "Dog_1_interictal_segment_0212.mat  Dog_1_test_segment_0211.mat\r\n",
      "Dog_1_interictal_segment_0213.mat  Dog_1_test_segment_0212.mat\r\n",
      "Dog_1_interictal_segment_0214.mat  Dog_1_test_segment_0213.mat\r\n",
      "Dog_1_interictal_segment_0215.mat  Dog_1_test_segment_0214.mat\r\n",
      "Dog_1_interictal_segment_0216.mat  Dog_1_test_segment_0215.mat\r\n",
      "Dog_1_interictal_segment_0217.mat  Dog_1_test_segment_0216.mat\r\n",
      "Dog_1_interictal_segment_0218.mat  Dog_1_test_segment_0217.mat\r\n",
      "Dog_1_interictal_segment_0219.mat  Dog_1_test_segment_0218.mat\r\n",
      "Dog_1_interictal_segment_0220.mat  Dog_1_test_segment_0219.mat\r\n",
      "Dog_1_interictal_segment_0221.mat  Dog_1_test_segment_0220.mat\r\n",
      "Dog_1_interictal_segment_0222.mat  Dog_1_test_segment_0221.mat\r\n",
      "Dog_1_interictal_segment_0223.mat  Dog_1_test_segment_0222.mat\r\n",
      "Dog_1_interictal_segment_0224.mat  Dog_1_test_segment_0223.mat\r\n",
      "Dog_1_interictal_segment_0225.mat  Dog_1_test_segment_0224.mat\r\n",
      "Dog_1_interictal_segment_0226.mat  Dog_1_test_segment_0225.mat\r\n",
      "Dog_1_interictal_segment_0227.mat  Dog_1_test_segment_0226.mat\r\n",
      "Dog_1_interictal_segment_0228.mat  Dog_1_test_segment_0227.mat\r\n",
      "Dog_1_interictal_segment_0229.mat  Dog_1_test_segment_0228.mat\r\n",
      "Dog_1_interictal_segment_0230.mat  Dog_1_test_segment_0229.mat\r\n",
      "Dog_1_interictal_segment_0231.mat  Dog_1_test_segment_0230.mat\r\n",
      "Dog_1_interictal_segment_0232.mat  Dog_1_test_segment_0231.mat\r\n",
      "Dog_1_interictal_segment_0233.mat  Dog_1_test_segment_0232.mat\r\n",
      "Dog_1_interictal_segment_0234.mat  Dog_1_test_segment_0233.mat\r\n",
      "Dog_1_interictal_segment_0235.mat  Dog_1_test_segment_0234.mat\r\n",
      "Dog_1_interictal_segment_0236.mat  Dog_1_test_segment_0235.mat\r\n",
      "Dog_1_interictal_segment_0237.mat  Dog_1_test_segment_0236.mat\r\n",
      "Dog_1_interictal_segment_0238.mat  Dog_1_test_segment_0237.mat\r\n",
      "Dog_1_interictal_segment_0239.mat  Dog_1_test_segment_0238.mat\r\n",
      "Dog_1_interictal_segment_0240.mat  Dog_1_test_segment_0239.mat\r\n",
      "Dog_1_interictal_segment_0241.mat  Dog_1_test_segment_0240.mat\r\n",
      "Dog_1_interictal_segment_0242.mat  Dog_1_test_segment_0241.mat\r\n",
      "Dog_1_interictal_segment_0243.mat  Dog_1_test_segment_0242.mat\r\n",
      "Dog_1_interictal_segment_0244.mat  Dog_1_test_segment_0243.mat\r\n",
      "Dog_1_interictal_segment_0245.mat  Dog_1_test_segment_0244.mat\r\n",
      "Dog_1_interictal_segment_0246.mat  Dog_1_test_segment_0245.mat\r\n",
      "Dog_1_interictal_segment_0247.mat  Dog_1_test_segment_0246.mat\r\n",
      "Dog_1_interictal_segment_0248.mat  Dog_1_test_segment_0247.mat\r\n",
      "Dog_1_interictal_segment_0249.mat  Dog_1_test_segment_0248.mat\r\n",
      "Dog_1_interictal_segment_0250.mat  Dog_1_test_segment_0249.mat\r\n",
      "Dog_1_interictal_segment_0251.mat  Dog_1_test_segment_0250.mat\r\n",
      "Dog_1_interictal_segment_0252.mat  Dog_1_test_segment_0251.mat\r\n",
      "Dog_1_interictal_segment_0253.mat  Dog_1_test_segment_0252.mat\r\n",
      "Dog_1_interictal_segment_0254.mat  Dog_1_test_segment_0253.mat\r\n",
      "Dog_1_interictal_segment_0255.mat  Dog_1_test_segment_0254.mat\r\n",
      "Dog_1_interictal_segment_0256.mat  Dog_1_test_segment_0255.mat\r\n",
      "Dog_1_interictal_segment_0257.mat  Dog_1_test_segment_0256.mat\r\n",
      "Dog_1_interictal_segment_0258.mat  Dog_1_test_segment_0257.mat\r\n",
      "Dog_1_interictal_segment_0259.mat  Dog_1_test_segment_0258.mat\r\n",
      "Dog_1_interictal_segment_0260.mat  Dog_1_test_segment_0259.mat\r\n",
      "Dog_1_interictal_segment_0261.mat  Dog_1_test_segment_0260.mat\r\n",
      "Dog_1_interictal_segment_0262.mat  Dog_1_test_segment_0261.mat\r\n",
      "Dog_1_interictal_segment_0263.mat  Dog_1_test_segment_0262.mat\r\n",
      "Dog_1_interictal_segment_0264.mat  Dog_1_test_segment_0263.mat\r\n",
      "Dog_1_interictal_segment_0265.mat  Dog_1_test_segment_0264.mat\r\n",
      "Dog_1_interictal_segment_0266.mat  Dog_1_test_segment_0265.mat\r\n",
      "Dog_1_interictal_segment_0267.mat  Dog_1_test_segment_0266.mat\r\n",
      "Dog_1_interictal_segment_0268.mat  Dog_1_test_segment_0267.mat\r\n",
      "Dog_1_interictal_segment_0269.mat  Dog_1_test_segment_0268.mat\r\n",
      "Dog_1_interictal_segment_0270.mat  Dog_1_test_segment_0269.mat\r\n",
      "Dog_1_interictal_segment_0271.mat  Dog_1_test_segment_0270.mat\r\n",
      "Dog_1_interictal_segment_0272.mat  Dog_1_test_segment_0271.mat\r\n",
      "Dog_1_interictal_segment_0273.mat  Dog_1_test_segment_0272.mat\r\n",
      "Dog_1_interictal_segment_0274.mat  Dog_1_test_segment_0273.mat\r\n",
      "Dog_1_interictal_segment_0275.mat  Dog_1_test_segment_0274.mat\r\n",
      "Dog_1_interictal_segment_0276.mat  Dog_1_test_segment_0275.mat\r\n",
      "Dog_1_interictal_segment_0277.mat  Dog_1_test_segment_0276.mat\r\n",
      "Dog_1_interictal_segment_0278.mat  Dog_1_test_segment_0277.mat\r\n",
      "Dog_1_interictal_segment_0279.mat  Dog_1_test_segment_0278.mat\r\n",
      "Dog_1_interictal_segment_0280.mat  Dog_1_test_segment_0279.mat\r\n",
      "Dog_1_interictal_segment_0281.mat  Dog_1_test_segment_0280.mat\r\n",
      "Dog_1_interictal_segment_0282.mat  Dog_1_test_segment_0281.mat\r\n",
      "Dog_1_interictal_segment_0283.mat  Dog_1_test_segment_0282.mat\r\n",
      "Dog_1_interictal_segment_0284.mat  Dog_1_test_segment_0283.mat\r\n",
      "Dog_1_interictal_segment_0285.mat  Dog_1_test_segment_0284.mat\r\n",
      "Dog_1_interictal_segment_0286.mat  Dog_1_test_segment_0285.mat\r\n",
      "Dog_1_interictal_segment_0287.mat  Dog_1_test_segment_0286.mat\r\n",
      "Dog_1_interictal_segment_0288.mat  Dog_1_test_segment_0287.mat\r\n",
      "Dog_1_interictal_segment_0289.mat  Dog_1_test_segment_0288.mat\r\n",
      "Dog_1_interictal_segment_0290.mat  Dog_1_test_segment_0289.mat\r\n",
      "Dog_1_interictal_segment_0291.mat  Dog_1_test_segment_0290.mat\r\n",
      "Dog_1_interictal_segment_0292.mat  Dog_1_test_segment_0291.mat\r\n",
      "Dog_1_interictal_segment_0293.mat  Dog_1_test_segment_0292.mat\r\n",
      "Dog_1_interictal_segment_0294.mat  Dog_1_test_segment_0293.mat\r\n",
      "Dog_1_interictal_segment_0295.mat  Dog_1_test_segment_0294.mat\r\n",
      "Dog_1_interictal_segment_0296.mat  Dog_1_test_segment_0295.mat\r\n",
      "Dog_1_interictal_segment_0297.mat  Dog_1_test_segment_0296.mat\r\n",
      "Dog_1_interictal_segment_0298.mat  Dog_1_test_segment_0297.mat\r\n",
      "Dog_1_interictal_segment_0299.mat  Dog_1_test_segment_0298.mat\r\n",
      "Dog_1_interictal_segment_0300.mat  Dog_1_test_segment_0299.mat\r\n",
      "Dog_1_interictal_segment_0301.mat  Dog_1_test_segment_0300.mat\r\n",
      "Dog_1_interictal_segment_0302.mat  Dog_1_test_segment_0301.mat\r\n",
      "Dog_1_interictal_segment_0303.mat  Dog_1_test_segment_0302.mat\r\n",
      "Dog_1_interictal_segment_0304.mat  Dog_1_test_segment_0303.mat\r\n",
      "Dog_1_interictal_segment_0305.mat  Dog_1_test_segment_0304.mat\r\n",
      "Dog_1_interictal_segment_0306.mat  Dog_1_test_segment_0305.mat\r\n",
      "Dog_1_interictal_segment_0307.mat  Dog_1_test_segment_0306.mat\r\n",
      "Dog_1_interictal_segment_0308.mat  Dog_1_test_segment_0307.mat\r\n",
      "Dog_1_interictal_segment_0309.mat  Dog_1_test_segment_0308.mat\r\n",
      "Dog_1_interictal_segment_0310.mat  Dog_1_test_segment_0309.mat\r\n",
      "Dog_1_interictal_segment_0311.mat  Dog_1_test_segment_0310.mat\r\n",
      "Dog_1_interictal_segment_0312.mat  Dog_1_test_segment_0311.mat\r\n",
      "Dog_1_interictal_segment_0313.mat  Dog_1_test_segment_0312.mat\r\n",
      "Dog_1_interictal_segment_0314.mat  Dog_1_test_segment_0313.mat\r\n",
      "Dog_1_interictal_segment_0315.mat  Dog_1_test_segment_0314.mat\r\n",
      "Dog_1_interictal_segment_0316.mat  Dog_1_test_segment_0315.mat\r\n",
      "Dog_1_interictal_segment_0317.mat  Dog_1_test_segment_0316.mat\r\n",
      "Dog_1_interictal_segment_0318.mat  Dog_1_test_segment_0317.mat\r\n",
      "Dog_1_interictal_segment_0319.mat  Dog_1_test_segment_0318.mat\r\n",
      "Dog_1_interictal_segment_0320.mat  Dog_1_test_segment_0319.mat\r\n",
      "Dog_1_interictal_segment_0321.mat  Dog_1_test_segment_0320.mat\r\n",
      "Dog_1_interictal_segment_0322.mat  Dog_1_test_segment_0321.mat\r\n",
      "Dog_1_interictal_segment_0323.mat  Dog_1_test_segment_0322.mat\r\n",
      "Dog_1_interictal_segment_0324.mat  Dog_1_test_segment_0323.mat\r\n",
      "Dog_1_interictal_segment_0325.mat  Dog_1_test_segment_0324.mat\r\n",
      "Dog_1_interictal_segment_0326.mat  Dog_1_test_segment_0325.mat\r\n",
      "Dog_1_interictal_segment_0327.mat  Dog_1_test_segment_0326.mat\r\n",
      "Dog_1_interictal_segment_0328.mat  Dog_1_test_segment_0327.mat\r\n",
      "Dog_1_interictal_segment_0329.mat  Dog_1_test_segment_0328.mat\r\n",
      "Dog_1_interictal_segment_0330.mat  Dog_1_test_segment_0329.mat\r\n",
      "Dog_1_interictal_segment_0331.mat  Dog_1_test_segment_0330.mat\r\n",
      "Dog_1_interictal_segment_0332.mat  Dog_1_test_segment_0331.mat\r\n",
      "Dog_1_interictal_segment_0333.mat  Dog_1_test_segment_0332.mat\r\n",
      "Dog_1_interictal_segment_0334.mat  Dog_1_test_segment_0333.mat\r\n",
      "Dog_1_interictal_segment_0335.mat  Dog_1_test_segment_0334.mat\r\n",
      "Dog_1_interictal_segment_0336.mat  Dog_1_test_segment_0335.mat\r\n",
      "Dog_1_interictal_segment_0337.mat  Dog_1_test_segment_0336.mat\r\n",
      "Dog_1_interictal_segment_0338.mat  Dog_1_test_segment_0337.mat\r\n",
      "Dog_1_interictal_segment_0339.mat  Dog_1_test_segment_0338.mat\r\n",
      "Dog_1_interictal_segment_0340.mat  Dog_1_test_segment_0339.mat\r\n",
      "Dog_1_interictal_segment_0341.mat  Dog_1_test_segment_0340.mat\r\n",
      "Dog_1_interictal_segment_0342.mat  Dog_1_test_segment_0341.mat\r\n",
      "Dog_1_interictal_segment_0343.mat  Dog_1_test_segment_0342.mat\r\n",
      "Dog_1_interictal_segment_0344.mat  Dog_1_test_segment_0343.mat\r\n",
      "Dog_1_interictal_segment_0345.mat  Dog_1_test_segment_0344.mat\r\n",
      "Dog_1_interictal_segment_0346.mat  Dog_1_test_segment_0345.mat\r\n",
      "Dog_1_interictal_segment_0347.mat  Dog_1_test_segment_0346.mat\r\n",
      "Dog_1_interictal_segment_0348.mat  Dog_1_test_segment_0347.mat\r\n",
      "Dog_1_interictal_segment_0349.mat  Dog_1_test_segment_0348.mat\r\n",
      "Dog_1_interictal_segment_0350.mat  Dog_1_test_segment_0349.mat\r\n",
      "Dog_1_interictal_segment_0351.mat  Dog_1_test_segment_0350.mat\r\n",
      "Dog_1_interictal_segment_0352.mat  Dog_1_test_segment_0351.mat\r\n",
      "Dog_1_interictal_segment_0353.mat  Dog_1_test_segment_0352.mat\r\n",
      "Dog_1_interictal_segment_0354.mat  Dog_1_test_segment_0353.mat\r\n",
      "Dog_1_interictal_segment_0355.mat  Dog_1_test_segment_0354.mat\r\n",
      "Dog_1_interictal_segment_0356.mat  Dog_1_test_segment_0355.mat\r\n",
      "Dog_1_interictal_segment_0357.mat  Dog_1_test_segment_0356.mat\r\n",
      "Dog_1_interictal_segment_0358.mat  Dog_1_test_segment_0357.mat\r\n",
      "Dog_1_interictal_segment_0359.mat  Dog_1_test_segment_0358.mat\r\n",
      "Dog_1_interictal_segment_0360.mat  Dog_1_test_segment_0359.mat\r\n",
      "Dog_1_interictal_segment_0361.mat  Dog_1_test_segment_0360.mat\r\n",
      "Dog_1_interictal_segment_0362.mat  Dog_1_test_segment_0361.mat\r\n",
      "Dog_1_interictal_segment_0363.mat  Dog_1_test_segment_0362.mat\r\n",
      "Dog_1_interictal_segment_0364.mat  Dog_1_test_segment_0363.mat\r\n",
      "Dog_1_interictal_segment_0365.mat  Dog_1_test_segment_0364.mat\r\n",
      "Dog_1_interictal_segment_0366.mat  Dog_1_test_segment_0365.mat\r\n",
      "Dog_1_interictal_segment_0367.mat  Dog_1_test_segment_0366.mat\r\n",
      "Dog_1_interictal_segment_0368.mat  Dog_1_test_segment_0367.mat\r\n",
      "Dog_1_interictal_segment_0369.mat  Dog_1_test_segment_0368.mat\r\n",
      "Dog_1_interictal_segment_0370.mat  Dog_1_test_segment_0369.mat\r\n",
      "Dog_1_interictal_segment_0371.mat  Dog_1_test_segment_0370.mat\r\n",
      "Dog_1_interictal_segment_0372.mat  Dog_1_test_segment_0371.mat\r\n",
      "Dog_1_interictal_segment_0373.mat  Dog_1_test_segment_0372.mat\r\n",
      "Dog_1_interictal_segment_0374.mat  Dog_1_test_segment_0373.mat\r\n",
      "Dog_1_interictal_segment_0375.mat  Dog_1_test_segment_0374.mat\r\n",
      "Dog_1_interictal_segment_0376.mat  Dog_1_test_segment_0375.mat\r\n",
      "Dog_1_interictal_segment_0377.mat  Dog_1_test_segment_0376.mat\r\n",
      "Dog_1_interictal_segment_0378.mat  Dog_1_test_segment_0377.mat\r\n",
      "Dog_1_interictal_segment_0379.mat  Dog_1_test_segment_0378.mat\r\n",
      "Dog_1_interictal_segment_0380.mat  Dog_1_test_segment_0379.mat\r\n",
      "Dog_1_interictal_segment_0381.mat  Dog_1_test_segment_0380.mat\r\n",
      "Dog_1_interictal_segment_0382.mat  Dog_1_test_segment_0381.mat\r\n",
      "Dog_1_interictal_segment_0383.mat  Dog_1_test_segment_0382.mat\r\n",
      "Dog_1_interictal_segment_0384.mat  Dog_1_test_segment_0383.mat\r\n",
      "Dog_1_interictal_segment_0385.mat  Dog_1_test_segment_0384.mat\r\n",
      "Dog_1_interictal_segment_0386.mat  Dog_1_test_segment_0385.mat\r\n",
      "Dog_1_interictal_segment_0387.mat  Dog_1_test_segment_0386.mat\r\n",
      "Dog_1_interictal_segment_0388.mat  Dog_1_test_segment_0387.mat\r\n",
      "Dog_1_interictal_segment_0389.mat  Dog_1_test_segment_0388.mat\r\n",
      "Dog_1_interictal_segment_0390.mat  Dog_1_test_segment_0389.mat\r\n",
      "Dog_1_interictal_segment_0391.mat  Dog_1_test_segment_0390.mat\r\n",
      "Dog_1_interictal_segment_0392.mat  Dog_1_test_segment_0391.mat\r\n",
      "Dog_1_interictal_segment_0393.mat  Dog_1_test_segment_0392.mat\r\n",
      "Dog_1_interictal_segment_0394.mat  Dog_1_test_segment_0393.mat\r\n",
      "Dog_1_interictal_segment_0395.mat  Dog_1_test_segment_0394.mat\r\n",
      "Dog_1_interictal_segment_0396.mat  Dog_1_test_segment_0395.mat\r\n",
      "Dog_1_interictal_segment_0397.mat  Dog_1_test_segment_0396.mat\r\n",
      "Dog_1_interictal_segment_0398.mat  Dog_1_test_segment_0397.mat\r\n",
      "Dog_1_interictal_segment_0399.mat  Dog_1_test_segment_0398.mat\r\n",
      "Dog_1_interictal_segment_0400.mat  Dog_1_test_segment_0399.mat\r\n",
      "Dog_1_interictal_segment_0401.mat  Dog_1_test_segment_0400.mat\r\n",
      "Dog_1_interictal_segment_0402.mat  Dog_1_test_segment_0401.mat\r\n",
      "Dog_1_interictal_segment_0403.mat  Dog_1_test_segment_0402.mat\r\n",
      "Dog_1_interictal_segment_0404.mat  Dog_1_test_segment_0403.mat\r\n",
      "Dog_1_interictal_segment_0405.mat  Dog_1_test_segment_0404.mat\r\n",
      "Dog_1_interictal_segment_0406.mat  Dog_1_test_segment_0405.mat\r\n",
      "Dog_1_interictal_segment_0407.mat  Dog_1_test_segment_0406.mat\r\n",
      "Dog_1_interictal_segment_0408.mat  Dog_1_test_segment_0407.mat\r\n",
      "Dog_1_interictal_segment_0409.mat  Dog_1_test_segment_0408.mat\r\n",
      "Dog_1_interictal_segment_0410.mat  Dog_1_test_segment_0409.mat\r\n",
      "Dog_1_interictal_segment_0411.mat  Dog_1_test_segment_0410.mat\r\n",
      "Dog_1_interictal_segment_0412.mat  Dog_1_test_segment_0411.mat\r\n",
      "Dog_1_interictal_segment_0413.mat  Dog_1_test_segment_0412.mat\r\n",
      "Dog_1_interictal_segment_0414.mat  Dog_1_test_segment_0413.mat\r\n",
      "Dog_1_interictal_segment_0415.mat  Dog_1_test_segment_0414.mat\r\n",
      "Dog_1_interictal_segment_0416.mat  Dog_1_test_segment_0415.mat\r\n",
      "Dog_1_interictal_segment_0417.mat  Dog_1_test_segment_0416.mat\r\n",
      "Dog_1_interictal_segment_0418.mat  Dog_1_test_segment_0417.mat\r\n",
      "Dog_1_interictal_segment_0419.mat  Dog_1_test_segment_0418.mat\r\n",
      "Dog_1_interictal_segment_0420.mat  Dog_1_test_segment_0419.mat\r\n",
      "Dog_1_interictal_segment_0421.mat  Dog_1_test_segment_0420.mat\r\n",
      "Dog_1_interictal_segment_0422.mat  Dog_1_test_segment_0421.mat\r\n",
      "Dog_1_interictal_segment_0423.mat  Dog_1_test_segment_0422.mat\r\n",
      "Dog_1_interictal_segment_0424.mat  Dog_1_test_segment_0423.mat\r\n",
      "Dog_1_interictal_segment_0425.mat  Dog_1_test_segment_0424.mat\r\n",
      "Dog_1_interictal_segment_0426.mat  Dog_1_test_segment_0425.mat\r\n",
      "Dog_1_interictal_segment_0427.mat  Dog_1_test_segment_0426.mat\r\n",
      "Dog_1_interictal_segment_0428.mat  Dog_1_test_segment_0427.mat\r\n",
      "Dog_1_interictal_segment_0429.mat  Dog_1_test_segment_0428.mat\r\n",
      "Dog_1_interictal_segment_0430.mat  Dog_1_test_segment_0429.mat\r\n",
      "Dog_1_interictal_segment_0431.mat  Dog_1_test_segment_0430.mat\r\n",
      "Dog_1_interictal_segment_0432.mat  Dog_1_test_segment_0431.mat\r\n",
      "Dog_1_interictal_segment_0433.mat  Dog_1_test_segment_0432.mat\r\n",
      "Dog_1_interictal_segment_0434.mat  Dog_1_test_segment_0433.mat\r\n",
      "Dog_1_interictal_segment_0435.mat  Dog_1_test_segment_0434.mat\r\n",
      "Dog_1_interictal_segment_0436.mat  Dog_1_test_segment_0435.mat\r\n",
      "Dog_1_interictal_segment_0437.mat  Dog_1_test_segment_0436.mat\r\n",
      "Dog_1_interictal_segment_0438.mat  Dog_1_test_segment_0437.mat\r\n",
      "Dog_1_interictal_segment_0439.mat  Dog_1_test_segment_0438.mat\r\n",
      "Dog_1_interictal_segment_0440.mat  Dog_1_test_segment_0439.mat\r\n",
      "Dog_1_interictal_segment_0441.mat  Dog_1_test_segment_0440.mat\r\n",
      "Dog_1_interictal_segment_0442.mat  Dog_1_test_segment_0441.mat\r\n",
      "Dog_1_interictal_segment_0443.mat  Dog_1_test_segment_0442.mat\r\n",
      "Dog_1_interictal_segment_0444.mat  Dog_1_test_segment_0443.mat\r\n",
      "Dog_1_interictal_segment_0445.mat  Dog_1_test_segment_0444.mat\r\n",
      "Dog_1_interictal_segment_0446.mat  Dog_1_test_segment_0445.mat\r\n",
      "Dog_1_interictal_segment_0447.mat  Dog_1_test_segment_0446.mat\r\n",
      "Dog_1_interictal_segment_0448.mat  Dog_1_test_segment_0447.mat\r\n",
      "Dog_1_interictal_segment_0449.mat  Dog_1_test_segment_0448.mat\r\n",
      "Dog_1_interictal_segment_0450.mat  Dog_1_test_segment_0449.mat\r\n",
      "Dog_1_interictal_segment_0451.mat  Dog_1_test_segment_0450.mat\r\n",
      "Dog_1_interictal_segment_0452.mat  Dog_1_test_segment_0451.mat\r\n",
      "Dog_1_interictal_segment_0453.mat  Dog_1_test_segment_0452.mat\r\n",
      "Dog_1_interictal_segment_0454.mat  Dog_1_test_segment_0453.mat\r\n",
      "Dog_1_interictal_segment_0455.mat  Dog_1_test_segment_0454.mat\r\n",
      "Dog_1_interictal_segment_0456.mat  Dog_1_test_segment_0455.mat\r\n",
      "Dog_1_interictal_segment_0457.mat  Dog_1_test_segment_0456.mat\r\n",
      "Dog_1_interictal_segment_0458.mat  Dog_1_test_segment_0457.mat\r\n",
      "Dog_1_interictal_segment_0459.mat  Dog_1_test_segment_0458.mat\r\n",
      "Dog_1_interictal_segment_0460.mat  Dog_1_test_segment_0459.mat\r\n",
      "Dog_1_interictal_segment_0461.mat  Dog_1_test_segment_0460.mat\r\n",
      "Dog_1_interictal_segment_0462.mat  Dog_1_test_segment_0461.mat\r\n",
      "Dog_1_interictal_segment_0463.mat  Dog_1_test_segment_0462.mat\r\n",
      "Dog_1_interictal_segment_0464.mat  Dog_1_test_segment_0463.mat\r\n",
      "Dog_1_interictal_segment_0465.mat  Dog_1_test_segment_0464.mat\r\n",
      "Dog_1_interictal_segment_0466.mat  Dog_1_test_segment_0465.mat\r\n",
      "Dog_1_interictal_segment_0467.mat  Dog_1_test_segment_0466.mat\r\n",
      "Dog_1_interictal_segment_0468.mat  Dog_1_test_segment_0467.mat\r\n",
      "Dog_1_interictal_segment_0469.mat  Dog_1_test_segment_0468.mat\r\n",
      "Dog_1_interictal_segment_0470.mat  Dog_1_test_segment_0469.mat\r\n",
      "Dog_1_interictal_segment_0471.mat  Dog_1_test_segment_0470.mat\r\n",
      "Dog_1_interictal_segment_0472.mat  Dog_1_test_segment_0471.mat\r\n",
      "Dog_1_interictal_segment_0473.mat  Dog_1_test_segment_0472.mat\r\n",
      "Dog_1_interictal_segment_0474.mat  Dog_1_test_segment_0473.mat\r\n",
      "Dog_1_interictal_segment_0475.mat  Dog_1_test_segment_0474.mat\r\n",
      "Dog_1_interictal_segment_0476.mat  Dog_1_test_segment_0475.mat\r\n",
      "Dog_1_interictal_segment_0477.mat  Dog_1_test_segment_0476.mat\r\n",
      "Dog_1_interictal_segment_0478.mat  Dog_1_test_segment_0477.mat\r\n",
      "Dog_1_interictal_segment_0479.mat  Dog_1_test_segment_0478.mat\r\n",
      "Dog_1_interictal_segment_0480.mat  Dog_1_test_segment_0479.mat\r\n",
      "Dog_1_preictal_segment_0001.mat    Dog_1_test_segment_0480.mat\r\n",
      "Dog_1_preictal_segment_0002.mat    Dog_1_test_segment_0481.mat\r\n",
      "Dog_1_preictal_segment_0003.mat    Dog_1_test_segment_0482.mat\r\n",
      "Dog_1_preictal_segment_0004.mat    Dog_1_test_segment_0483.mat\r\n",
      "Dog_1_preictal_segment_0005.mat    Dog_1_test_segment_0484.mat\r\n",
      "Dog_1_preictal_segment_0006.mat    Dog_1_test_segment_0485.mat\r\n",
      "Dog_1_preictal_segment_0007.mat    Dog_1_test_segment_0486.mat\r\n",
      "Dog_1_preictal_segment_0008.mat    Dog_1_test_segment_0487.mat\r\n",
      "Dog_1_preictal_segment_0009.mat    Dog_1_test_segment_0488.mat\r\n",
      "Dog_1_preictal_segment_0010.mat    Dog_1_test_segment_0489.mat\r\n",
      "Dog_1_preictal_segment_0011.mat    Dog_1_test_segment_0490.mat\r\n",
      "Dog_1_preictal_segment_0012.mat    Dog_1_test_segment_0491.mat\r\n",
      "Dog_1_preictal_segment_0013.mat    Dog_1_test_segment_0492.mat\r\n",
      "Dog_1_preictal_segment_0014.mat    Dog_1_test_segment_0493.mat\r\n",
      "Dog_1_preictal_segment_0015.mat    Dog_1_test_segment_0494.mat\r\n",
      "Dog_1_preictal_segment_0016.mat    Dog_1_test_segment_0495.mat\r\n",
      "Dog_1_preictal_segment_0017.mat    Dog_1_test_segment_0496.mat\r\n",
      "Dog_1_preictal_segment_0018.mat    Dog_1_test_segment_0497.mat\r\n",
      "Dog_1_preictal_segment_0019.mat    Dog_1_test_segment_0498.mat\r\n",
      "Dog_1_preictal_segment_0020.mat    Dog_1_test_segment_0499.mat\r\n",
      "Dog_1_preictal_segment_0021.mat    Dog_1_test_segment_0500.mat\r\n",
      "Dog_1_preictal_segment_0022.mat    Dog_1_test_segment_0501.mat\r\n",
      "Dog_1_preictal_segment_0023.mat    Dog_1_test_segment_0502.mat\r\n"
     ]
    }
   ],
   "source": [
    "!ls ../input/Dog_1/"
   ]
  },
  {
   "cell_type": "code",
   "execution_count": 110,
   "metadata": {
    "ExecuteTime": {
     "end_time": "2019-03-10T16:20:33.492265Z",
     "start_time": "2019-03-10T16:20:33.476647Z"
    }
   },
   "outputs": [],
   "source": [
    "mat = scipy.io.loadmat(data_dir / 'Dog_1' / 'Dog_1_interictal_segment_0001.mat')"
   ]
  },
  {
   "cell_type": "code",
   "execution_count": 111,
   "metadata": {
    "ExecuteTime": {
     "end_time": "2019-03-10T16:20:33.496072Z",
     "start_time": "2019-03-10T16:20:33.493369Z"
    }
   },
   "outputs": [
    {
     "data": {
      "text/plain": [
       "dict_keys(['__header__', '__version__', '__globals__', 'interictal_segment_1'])"
      ]
     },
     "execution_count": 111,
     "metadata": {},
     "output_type": "execute_result"
    }
   ],
   "source": [
    "mat.keys()"
   ]
  },
  {
   "cell_type": "code",
   "execution_count": 112,
   "metadata": {
    "ExecuteTime": {
     "end_time": "2019-03-10T16:20:33.505761Z",
     "start_time": "2019-03-10T16:20:33.497566Z"
    }
   },
   "outputs": [
    {
     "data": {
      "text/plain": [
       "(1, 1)"
      ]
     },
     "execution_count": 112,
     "metadata": {},
     "output_type": "execute_result"
    }
   ],
   "source": [
    "mat['interictal_segment_1'].shape"
   ]
  },
  {
   "cell_type": "code",
   "execution_count": 113,
   "metadata": {
    "ExecuteTime": {
     "end_time": "2019-03-10T16:20:33.515663Z",
     "start_time": "2019-03-10T16:20:33.507438Z"
    }
   },
   "outputs": [
    {
     "data": {
      "text/plain": [
       "('data', 'data_length_sec', 'sampling_frequency', 'channels', 'sequence')"
      ]
     },
     "execution_count": 113,
     "metadata": {},
     "output_type": "execute_result"
    }
   ],
   "source": [
    "mat['interictal_segment_1'].dtype.names"
   ]
  },
  {
   "cell_type": "code",
   "execution_count": 114,
   "metadata": {
    "ExecuteTime": {
     "end_time": "2019-03-10T16:20:33.529675Z",
     "start_time": "2019-03-10T16:20:33.517069Z"
    }
   },
   "outputs": [
    {
     "data": {
      "text/plain": [
       "numpy.void"
      ]
     },
     "execution_count": 114,
     "metadata": {},
     "output_type": "execute_result"
    }
   ],
   "source": [
    "type(mat['interictal_segment_1'][0][0])"
   ]
  },
  {
   "cell_type": "code",
   "execution_count": 115,
   "metadata": {
    "ExecuteTime": {
     "end_time": "2019-03-10T16:20:33.539504Z",
     "start_time": "2019-03-10T16:20:33.530749Z"
    }
   },
   "outputs": [
    {
     "data": {
      "text/plain": [
       "dict_keys(['data', 'data_length_sec', 'sampling_frequency', 'channels', 'sequence'])"
      ]
     },
     "execution_count": 115,
     "metadata": {},
     "output_type": "execute_result"
    }
   ],
   "source": [
    "data = load_mat(mat)\n",
    "\n",
    "data.keys()"
   ]
  },
  {
   "cell_type": "code",
   "execution_count": 116,
   "metadata": {
    "ExecuteTime": {
     "end_time": "2019-03-10T16:20:33.549611Z",
     "start_time": "2019-03-10T16:20:33.540638Z"
    }
   },
   "outputs": [
    {
     "name": "stdout",
     "output_type": "stream",
     "text": [
      "Data: \n",
      " [[  0  13  15 ... -25 -21 -12]\n",
      " [-26  -4  11 ... -39 -32 -21]\n",
      " [-42 -35 -19 ... -16 -16 -18]\n",
      " ...\n",
      " [ 45  30  25 ...  43  28  17]\n",
      " [ 15   8  -6 ...  14  13   6]\n",
      " [-18 -20 -19 ...   9   9   3]]\n",
      "Data Shape: \t (16, 239766)\n",
      "Data length sec: \t 600\n",
      "Data sampling frequency: \t 399.609756097561\n",
      "All channels: \n",
      " [array(['NVC1202_32_002_Ecog_c001'], dtype='<U24')\n",
      " array(['NVC1202_32_002_Ecog_c002'], dtype='<U24')\n",
      " array(['NVC1202_32_002_Ecog_c003'], dtype='<U24')\n",
      " array(['NVC1202_32_002_Ecog_c004'], dtype='<U24')\n",
      " array(['NVC1202_32_002_Ecog_c005'], dtype='<U24')\n",
      " array(['NVC1202_32_002_Ecog_c006'], dtype='<U24')\n",
      " array(['NVC1202_32_002_Ecog_c007'], dtype='<U24')\n",
      " array(['NVC1202_32_002_Ecog_c008'], dtype='<U24')\n",
      " array(['NVC1202_32_002_Ecog_c009'], dtype='<U24')\n",
      " array(['NVC1202_32_002_Ecog_c010'], dtype='<U24')\n",
      " array(['NVC1202_32_002_Ecog_c011'], dtype='<U24')\n",
      " array(['NVC1202_32_002_Ecog_c012'], dtype='<U24')\n",
      " array(['NVC1202_32_002_Ecog_c013'], dtype='<U24')\n",
      " array(['NVC1202_32_002_Ecog_c014'], dtype='<U24')\n",
      " array(['NVC1202_32_002_Ecog_c015'], dtype='<U24')\n",
      " array(['NVC1202_32_002_Ecog_c016'], dtype='<U24')]\n",
      "Number of channels: \t 16\n",
      "Data sequense: \t 1\n"
     ]
    }
   ],
   "source": [
    "data['data']\n",
    "info_mat(data)"
   ]
  },
  {
   "cell_type": "code",
   "execution_count": 117,
   "metadata": {
    "ExecuteTime": {
     "end_time": "2019-03-10T16:20:33.624007Z",
     "start_time": "2019-03-10T16:20:33.551334Z"
    }
   },
   "outputs": [
    {
     "data": {
      "text/plain": [
       "12"
      ]
     },
     "execution_count": 117,
     "metadata": {},
     "output_type": "execute_result"
    }
   ],
   "source": [
    "# to save memory\n",
    "del data, mat\n",
    "import gc\n",
    "gc.collect()"
   ]
  },
  {
   "cell_type": "markdown",
   "metadata": {},
   "source": [
    "### Dog 2"
   ]
  },
  {
   "cell_type": "code",
   "execution_count": 127,
   "metadata": {
    "ExecuteTime": {
     "end_time": "2019-03-10T16:22:04.922311Z",
     "start_time": "2019-03-10T16:22:04.914637Z"
    }
   },
   "outputs": [
    {
     "data": {
      "text/plain": [
       "dict_keys(['data', 'data_length_sec', 'sampling_frequency', 'channels', 'sequence'])"
      ]
     },
     "execution_count": 127,
     "metadata": {},
     "output_type": "execute_result"
    }
   ],
   "source": [
    "mat = scipy.io.loadmat(data_dir / 'Dog_2' / 'Dog_2_interictal_segment_0001.mat')\n",
    "\n",
    "data = load_mat(mat)\n",
    "data.keys()"
   ]
  },
  {
   "cell_type": "code",
   "execution_count": 128,
   "metadata": {
    "ExecuteTime": {
     "end_time": "2019-03-10T16:22:05.335918Z",
     "start_time": "2019-03-10T16:22:05.327453Z"
    },
    "scrolled": true
   },
   "outputs": [
    {
     "name": "stdout",
     "output_type": "stream",
     "text": [
      "Data: \n",
      " [[-38 -45 -46 ...  14  13  -2]\n",
      " [-13  -5 -11 ...  -2   4   8]\n",
      " [  9  -2  -3 ... -35 -35 -33]\n",
      " ...\n",
      " [  0  21  31 ...  17  24  31]\n",
      " [ -8 -14 -12 ...   9  -5  -5]\n",
      " [ 25  21  17 ...  18  20  18]]\n",
      "Data Shape: \t (16, 239766)\n",
      "Data length sec: \t 600\n",
      "Data sampling frequency: \t 399.609756097561\n",
      "All channels: \n",
      " [array(['NVC0905_22_002_Ecog_c001'], dtype='<U24')\n",
      " array(['NVC0905_22_002_Ecog_c002'], dtype='<U24')\n",
      " array(['NVC0905_22_002_Ecog_c003'], dtype='<U24')\n",
      " array(['NVC0905_22_002_Ecog_c004'], dtype='<U24')\n",
      " array(['NVC0905_22_002_Ecog_c005'], dtype='<U24')\n",
      " array(['NVC0905_22_002_Ecog_c006'], dtype='<U24')\n",
      " array(['NVC0905_22_002_Ecog_c007'], dtype='<U24')\n",
      " array(['NVC0905_22_002_Ecog_c008'], dtype='<U24')\n",
      " array(['NVC0905_22_002_Ecog_c009'], dtype='<U24')\n",
      " array(['NVC0905_22_002_Ecog_c010'], dtype='<U24')\n",
      " array(['NVC0905_22_002_Ecog_c011'], dtype='<U24')\n",
      " array(['NVC0905_22_002_Ecog_c012'], dtype='<U24')\n",
      " array(['NVC0905_22_002_Ecog_c013'], dtype='<U24')\n",
      " array(['NVC0905_22_002_Ecog_c014'], dtype='<U24')\n",
      " array(['NVC0905_22_002_Ecog_c015'], dtype='<U24')\n",
      " array(['NVC0905_22_002_Ecog_c016'], dtype='<U24')]\n",
      "Number of channels: \t 16\n",
      "Data sequense: \t 1\n"
     ]
    }
   ],
   "source": [
    "data['data']\n",
    "info_mat(data)"
   ]
  },
  {
   "cell_type": "code",
   "execution_count": 129,
   "metadata": {
    "ExecuteTime": {
     "end_time": "2019-03-10T16:22:06.391566Z",
     "start_time": "2019-03-10T16:22:06.331673Z"
    }
   },
   "outputs": [
    {
     "data": {
      "text/plain": [
       "0"
      ]
     },
     "execution_count": 129,
     "metadata": {},
     "output_type": "execute_result"
    }
   ],
   "source": [
    "del data, mat\n",
    "import gc\n",
    "gc.collect()"
   ]
  },
  {
   "cell_type": "markdown",
   "metadata": {},
   "source": [
    "## Patient 1"
   ]
  },
  {
   "cell_type": "code",
   "execution_count": 122,
   "metadata": {
    "ExecuteTime": {
     "end_time": "2019-03-10T16:20:33.858434Z",
     "start_time": "2019-03-10T16:20:33.724147Z"
    }
   },
   "outputs": [
    {
     "name": "stdout",
     "output_type": "stream",
     "text": [
      "Patient_1_interictal_segment_0001.mat  Patient_1_test_segment_0065.mat\r\n",
      "Patient_1_interictal_segment_0002.mat  Patient_1_test_segment_0066.mat\r\n",
      "Patient_1_interictal_segment_0003.mat  Patient_1_test_segment_0067.mat\r\n",
      "Patient_1_interictal_segment_0004.mat  Patient_1_test_segment_0068.mat\r\n",
      "Patient_1_interictal_segment_0005.mat  Patient_1_test_segment_0069.mat\r\n",
      "Patient_1_interictal_segment_0006.mat  Patient_1_test_segment_0070.mat\r\n",
      "Patient_1_interictal_segment_0007.mat  Patient_1_test_segment_0071.mat\r\n",
      "Patient_1_interictal_segment_0008.mat  Patient_1_test_segment_0072.mat\r\n",
      "Patient_1_interictal_segment_0009.mat  Patient_1_test_segment_0073.mat\r\n",
      "Patient_1_interictal_segment_0010.mat  Patient_1_test_segment_0074.mat\r\n",
      "Patient_1_interictal_segment_0011.mat  Patient_1_test_segment_0075.mat\r\n",
      "Patient_1_interictal_segment_0012.mat  Patient_1_test_segment_0076.mat\r\n",
      "Patient_1_interictal_segment_0013.mat  Patient_1_test_segment_0077.mat\r\n",
      "Patient_1_interictal_segment_0014.mat  Patient_1_test_segment_0078.mat\r\n",
      "Patient_1_interictal_segment_0015.mat  Patient_1_test_segment_0079.mat\r\n",
      "Patient_1_interictal_segment_0016.mat  Patient_1_test_segment_0080.mat\r\n",
      "Patient_1_interictal_segment_0017.mat  Patient_1_test_segment_0081.mat\r\n",
      "Patient_1_interictal_segment_0018.mat  Patient_1_test_segment_0082.mat\r\n",
      "Patient_1_interictal_segment_0019.mat  Patient_1_test_segment_0083.mat\r\n",
      "Patient_1_interictal_segment_0020.mat  Patient_1_test_segment_0084.mat\r\n",
      "Patient_1_interictal_segment_0021.mat  Patient_1_test_segment_0085.mat\r\n",
      "Patient_1_interictal_segment_0022.mat  Patient_1_test_segment_0086.mat\r\n",
      "Patient_1_interictal_segment_0023.mat  Patient_1_test_segment_0087.mat\r\n",
      "Patient_1_interictal_segment_0024.mat  Patient_1_test_segment_0088.mat\r\n",
      "Patient_1_interictal_segment_0025.mat  Patient_1_test_segment_0089.mat\r\n",
      "Patient_1_interictal_segment_0026.mat  Patient_1_test_segment_0090.mat\r\n",
      "Patient_1_interictal_segment_0027.mat  Patient_1_test_segment_0091.mat\r\n",
      "Patient_1_interictal_segment_0028.mat  Patient_1_test_segment_0092.mat\r\n",
      "Patient_1_interictal_segment_0029.mat  Patient_1_test_segment_0093.mat\r\n",
      "Patient_1_interictal_segment_0030.mat  Patient_1_test_segment_0094.mat\r\n",
      "Patient_1_interictal_segment_0031.mat  Patient_1_test_segment_0095.mat\r\n",
      "Patient_1_interictal_segment_0032.mat  Patient_1_test_segment_0096.mat\r\n",
      "Patient_1_interictal_segment_0033.mat  Patient_1_test_segment_0097.mat\r\n",
      "Patient_1_interictal_segment_0034.mat  Patient_1_test_segment_0098.mat\r\n",
      "Patient_1_interictal_segment_0035.mat  Patient_1_test_segment_0099.mat\r\n",
      "Patient_1_interictal_segment_0036.mat  Patient_1_test_segment_0100.mat\r\n",
      "Patient_1_interictal_segment_0037.mat  Patient_1_test_segment_0101.mat\r\n",
      "Patient_1_interictal_segment_0038.mat  Patient_1_test_segment_0102.mat\r\n",
      "Patient_1_interictal_segment_0039.mat  Patient_1_test_segment_0103.mat\r\n",
      "Patient_1_interictal_segment_0040.mat  Patient_1_test_segment_0104.mat\r\n",
      "Patient_1_interictal_segment_0041.mat  Patient_1_test_segment_0105.mat\r\n",
      "Patient_1_interictal_segment_0042.mat  Patient_1_test_segment_0106.mat\r\n",
      "Patient_1_interictal_segment_0043.mat  Patient_1_test_segment_0107.mat\r\n",
      "Patient_1_interictal_segment_0044.mat  Patient_1_test_segment_0108.mat\r\n",
      "Patient_1_interictal_segment_0045.mat  Patient_1_test_segment_0109.mat\r\n",
      "Patient_1_interictal_segment_0046.mat  Patient_1_test_segment_0110.mat\r\n",
      "Patient_1_interictal_segment_0047.mat  Patient_1_test_segment_0111.mat\r\n",
      "Patient_1_interictal_segment_0048.mat  Patient_1_test_segment_0112.mat\r\n",
      "Patient_1_interictal_segment_0049.mat  Patient_1_test_segment_0113.mat\r\n",
      "Patient_1_interictal_segment_0050.mat  Patient_1_test_segment_0114.mat\r\n",
      "Patient_1_preictal_segment_0001.mat    Patient_1_test_segment_0115.mat\r\n",
      "Patient_1_preictal_segment_0002.mat    Patient_1_test_segment_0116.mat\r\n",
      "Patient_1_preictal_segment_0003.mat    Patient_1_test_segment_0117.mat\r\n",
      "Patient_1_preictal_segment_0004.mat    Patient_1_test_segment_0118.mat\r\n",
      "Patient_1_preictal_segment_0005.mat    Patient_1_test_segment_0119.mat\r\n",
      "Patient_1_preictal_segment_0006.mat    Patient_1_test_segment_0120.mat\r\n",
      "Patient_1_preictal_segment_0007.mat    Patient_1_test_segment_0121.mat\r\n",
      "Patient_1_preictal_segment_0008.mat    Patient_1_test_segment_0122.mat\r\n",
      "Patient_1_preictal_segment_0009.mat    Patient_1_test_segment_0123.mat\r\n",
      "Patient_1_preictal_segment_0010.mat    Patient_1_test_segment_0124.mat\r\n",
      "Patient_1_preictal_segment_0011.mat    Patient_1_test_segment_0125.mat\r\n",
      "Patient_1_preictal_segment_0012.mat    Patient_1_test_segment_0126.mat\r\n",
      "Patient_1_preictal_segment_0013.mat    Patient_1_test_segment_0127.mat\r\n",
      "Patient_1_preictal_segment_0014.mat    Patient_1_test_segment_0128.mat\r\n",
      "Patient_1_preictal_segment_0015.mat    Patient_1_test_segment_0129.mat\r\n",
      "Patient_1_preictal_segment_0016.mat    Patient_1_test_segment_0130.mat\r\n",
      "Patient_1_preictal_segment_0017.mat    Patient_1_test_segment_0131.mat\r\n",
      "Patient_1_preictal_segment_0018.mat    Patient_1_test_segment_0132.mat\r\n",
      "Patient_1_test_segment_0001.mat        Patient_1_test_segment_0133.mat\r\n",
      "Patient_1_test_segment_0002.mat        Patient_1_test_segment_0134.mat\r\n",
      "Patient_1_test_segment_0003.mat        Patient_1_test_segment_0135.mat\r\n",
      "Patient_1_test_segment_0004.mat        Patient_1_test_segment_0136.mat\r\n",
      "Patient_1_test_segment_0005.mat        Patient_1_test_segment_0137.mat\r\n",
      "Patient_1_test_segment_0006.mat        Patient_1_test_segment_0138.mat\r\n",
      "Patient_1_test_segment_0007.mat        Patient_1_test_segment_0139.mat\r\n",
      "Patient_1_test_segment_0008.mat        Patient_1_test_segment_0140.mat\r\n",
      "Patient_1_test_segment_0009.mat        Patient_1_test_segment_0141.mat\r\n",
      "Patient_1_test_segment_0010.mat        Patient_1_test_segment_0142.mat\r\n",
      "Patient_1_test_segment_0011.mat        Patient_1_test_segment_0143.mat\r\n",
      "Patient_1_test_segment_0012.mat        Patient_1_test_segment_0144.mat\r\n",
      "Patient_1_test_segment_0013.mat        Patient_1_test_segment_0145.mat\r\n",
      "Patient_1_test_segment_0014.mat        Patient_1_test_segment_0146.mat\r\n",
      "Patient_1_test_segment_0015.mat        Patient_1_test_segment_0147.mat\r\n",
      "Patient_1_test_segment_0016.mat        Patient_1_test_segment_0148.mat\r\n",
      "Patient_1_test_segment_0017.mat        Patient_1_test_segment_0149.mat\r\n",
      "Patient_1_test_segment_0018.mat        Patient_1_test_segment_0150.mat\r\n",
      "Patient_1_test_segment_0019.mat        Patient_1_test_segment_0151.mat\r\n",
      "Patient_1_test_segment_0020.mat        Patient_1_test_segment_0152.mat\r\n",
      "Patient_1_test_segment_0021.mat        Patient_1_test_segment_0153.mat\r\n",
      "Patient_1_test_segment_0022.mat        Patient_1_test_segment_0154.mat\r\n",
      "Patient_1_test_segment_0023.mat        Patient_1_test_segment_0155.mat\r\n",
      "Patient_1_test_segment_0024.mat        Patient_1_test_segment_0156.mat\r\n",
      "Patient_1_test_segment_0025.mat        Patient_1_test_segment_0157.mat\r\n",
      "Patient_1_test_segment_0026.mat        Patient_1_test_segment_0158.mat\r\n",
      "Patient_1_test_segment_0027.mat        Patient_1_test_segment_0159.mat\r\n",
      "Patient_1_test_segment_0028.mat        Patient_1_test_segment_0160.mat\r\n",
      "Patient_1_test_segment_0029.mat        Patient_1_test_segment_0161.mat\r\n",
      "Patient_1_test_segment_0030.mat        Patient_1_test_segment_0162.mat\r\n",
      "Patient_1_test_segment_0031.mat        Patient_1_test_segment_0163.mat\r\n",
      "Patient_1_test_segment_0032.mat        Patient_1_test_segment_0164.mat\r\n",
      "Patient_1_test_segment_0033.mat        Patient_1_test_segment_0165.mat\r\n",
      "Patient_1_test_segment_0034.mat        Patient_1_test_segment_0166.mat\r\n",
      "Patient_1_test_segment_0035.mat        Patient_1_test_segment_0167.mat\r\n",
      "Patient_1_test_segment_0036.mat        Patient_1_test_segment_0168.mat\r\n",
      "Patient_1_test_segment_0037.mat        Patient_1_test_segment_0169.mat\r\n",
      "Patient_1_test_segment_0038.mat        Patient_1_test_segment_0170.mat\r\n",
      "Patient_1_test_segment_0039.mat        Patient_1_test_segment_0171.mat\r\n",
      "Patient_1_test_segment_0040.mat        Patient_1_test_segment_0172.mat\r\n",
      "Patient_1_test_segment_0041.mat        Patient_1_test_segment_0173.mat\r\n",
      "Patient_1_test_segment_0042.mat        Patient_1_test_segment_0174.mat\r\n",
      "Patient_1_test_segment_0043.mat        Patient_1_test_segment_0175.mat\r\n",
      "Patient_1_test_segment_0044.mat        Patient_1_test_segment_0176.mat\r\n",
      "Patient_1_test_segment_0045.mat        Patient_1_test_segment_0177.mat\r\n",
      "Patient_1_test_segment_0046.mat        Patient_1_test_segment_0178.mat\r\n",
      "Patient_1_test_segment_0047.mat        Patient_1_test_segment_0179.mat\r\n",
      "Patient_1_test_segment_0048.mat        Patient_1_test_segment_0180.mat\r\n",
      "Patient_1_test_segment_0049.mat        Patient_1_test_segment_0181.mat\r\n",
      "Patient_1_test_segment_0050.mat        Patient_1_test_segment_0182.mat\r\n",
      "Patient_1_test_segment_0051.mat        Patient_1_test_segment_0183.mat\r\n",
      "Patient_1_test_segment_0052.mat        Patient_1_test_segment_0184.mat\r\n",
      "Patient_1_test_segment_0053.mat        Patient_1_test_segment_0185.mat\r\n",
      "Patient_1_test_segment_0054.mat        Patient_1_test_segment_0186.mat\r\n",
      "Patient_1_test_segment_0055.mat        Patient_1_test_segment_0187.mat\r\n",
      "Patient_1_test_segment_0056.mat        Patient_1_test_segment_0188.mat\r\n",
      "Patient_1_test_segment_0057.mat        Patient_1_test_segment_0189.mat\r\n",
      "Patient_1_test_segment_0058.mat        Patient_1_test_segment_0190.mat\r\n",
      "Patient_1_test_segment_0059.mat        Patient_1_test_segment_0191.mat\r\n",
      "Patient_1_test_segment_0060.mat        Patient_1_test_segment_0192.mat\r\n",
      "Patient_1_test_segment_0061.mat        Patient_1_test_segment_0193.mat\r\n",
      "Patient_1_test_segment_0062.mat        Patient_1_test_segment_0194.mat\r\n",
      "Patient_1_test_segment_0063.mat        Patient_1_test_segment_0195.mat\r\n",
      "Patient_1_test_segment_0064.mat\r\n"
     ]
    }
   ],
   "source": [
    "!ls ../input/Patient_1/"
   ]
  },
  {
   "cell_type": "code",
   "execution_count": 123,
   "metadata": {
    "ExecuteTime": {
     "end_time": "2019-03-10T16:20:33.936004Z",
     "start_time": "2019-03-10T16:20:33.863498Z"
    }
   },
   "outputs": [],
   "source": [
    "mat = scipy.io.loadmat(data_dir / 'Patient_1' / 'Patient_1_interictal_segment_0001.mat')"
   ]
  },
  {
   "cell_type": "code",
   "execution_count": 124,
   "metadata": {
    "ExecuteTime": {
     "end_time": "2019-03-10T16:20:33.940002Z",
     "start_time": "2019-03-10T16:20:33.937090Z"
    }
   },
   "outputs": [
    {
     "data": {
      "text/plain": [
       "dict_keys(['data', 'data_length_sec', 'sampling_frequency', 'channels', 'sequence'])"
      ]
     },
     "execution_count": 124,
     "metadata": {},
     "output_type": "execute_result"
    }
   ],
   "source": [
    "data = load_mat(mat)\n",
    "data.keys()"
   ]
  },
  {
   "cell_type": "code",
   "execution_count": 125,
   "metadata": {
    "ExecuteTime": {
     "end_time": "2019-03-10T16:20:33.950736Z",
     "start_time": "2019-03-10T16:20:33.941000Z"
    }
   },
   "outputs": [
    {
     "name": "stdout",
     "output_type": "stream",
     "text": [
      "Data: \n",
      " [[ 122  122  122 ...   34   33   31]\n",
      " [ 641  642  642 ... -385 -387 -389]\n",
      " [ 358  358  356 ...  -36  -37  -40]\n",
      " ...\n",
      " [ 379  380  379 ...  142  141  140]\n",
      " [1425 1423 1422 ... -809 -809 -810]\n",
      " [ 589  590  591 ... -489 -490 -493]]\n",
      "Data Shape: \t (15, 3000000)\n",
      "Data length sec: \t 600\n",
      "Data sampling frequency: \t 5000\n",
      "All channels: \n",
      " [array(['LD_1'], dtype='<U4') array(['LD_3'], dtype='<U4')\n",
      " array(['LD_4'], dtype='<U4') array(['LD_5'], dtype='<U4')\n",
      " array(['LD_6'], dtype='<U4') array(['LD_7'], dtype='<U4')\n",
      " array(['LD_8'], dtype='<U4') array(['RD_1'], dtype='<U4')\n",
      " array(['RD_2'], dtype='<U4') array(['RD_3'], dtype='<U4')\n",
      " array(['RD_4'], dtype='<U4') array(['RD_5'], dtype='<U4')\n",
      " array(['RD_6'], dtype='<U4') array(['RD_7'], dtype='<U4')\n",
      " array(['RD_8'], dtype='<U4')]\n",
      "Number of channels: \t 15\n",
      "Data sequense: \t 1\n"
     ]
    }
   ],
   "source": [
    "info_mat(data)"
   ]
  },
  {
   "cell_type": "code",
   "execution_count": 126,
   "metadata": {
    "ExecuteTime": {
     "end_time": "2019-03-10T16:20:34.023328Z",
     "start_time": "2019-03-10T16:20:33.951704Z"
    }
   },
   "outputs": [
    {
     "data": {
      "text/plain": [
       "0"
      ]
     },
     "execution_count": 126,
     "metadata": {},
     "output_type": "execute_result"
    }
   ],
   "source": [
    "del data, mat\n",
    "import gc\n",
    "gc.collect()"
   ]
  },
  {
   "cell_type": "code",
   "execution_count": null,
   "metadata": {},
   "outputs": [],
   "source": []
  },
  {
   "cell_type": "markdown",
   "metadata": {},
   "source": [
    "## Dog_1を詳細に見ていく"
   ]
  },
  {
   "cell_type": "code",
   "execution_count": 130,
   "metadata": {
    "ExecuteTime": {
     "end_time": "2019-03-10T16:22:48.223505Z",
     "start_time": "2019-03-10T16:22:48.215716Z"
    }
   },
   "outputs": [
    {
     "name": "stdout",
     "output_type": "stream",
     "text": [
      "Data: \n",
      " [[  0  13  15 ... -25 -21 -12]\n",
      " [-26  -4  11 ... -39 -32 -21]\n",
      " [-42 -35 -19 ... -16 -16 -18]\n",
      " ...\n",
      " [ 45  30  25 ...  43  28  17]\n",
      " [ 15   8  -6 ...  14  13   6]\n",
      " [-18 -20 -19 ...   9   9   3]]\n",
      "Data Shape: \t (16, 239766)\n",
      "Data length sec: \t 600\n",
      "Data sampling frequency: \t 399.609756097561\n",
      "All channels: \n",
      " [array(['NVC1202_32_002_Ecog_c001'], dtype='<U24')\n",
      " array(['NVC1202_32_002_Ecog_c002'], dtype='<U24')\n",
      " array(['NVC1202_32_002_Ecog_c003'], dtype='<U24')\n",
      " array(['NVC1202_32_002_Ecog_c004'], dtype='<U24')\n",
      " array(['NVC1202_32_002_Ecog_c005'], dtype='<U24')\n",
      " array(['NVC1202_32_002_Ecog_c006'], dtype='<U24')\n",
      " array(['NVC1202_32_002_Ecog_c007'], dtype='<U24')\n",
      " array(['NVC1202_32_002_Ecog_c008'], dtype='<U24')\n",
      " array(['NVC1202_32_002_Ecog_c009'], dtype='<U24')\n",
      " array(['NVC1202_32_002_Ecog_c010'], dtype='<U24')\n",
      " array(['NVC1202_32_002_Ecog_c011'], dtype='<U24')\n",
      " array(['NVC1202_32_002_Ecog_c012'], dtype='<U24')\n",
      " array(['NVC1202_32_002_Ecog_c013'], dtype='<U24')\n",
      " array(['NVC1202_32_002_Ecog_c014'], dtype='<U24')\n",
      " array(['NVC1202_32_002_Ecog_c015'], dtype='<U24')\n",
      " array(['NVC1202_32_002_Ecog_c016'], dtype='<U24')]\n",
      "Number of channels: \t 16\n",
      "Data sequense: \t 1\n"
     ]
    }
   ],
   "source": [
    "mat = scipy.io.loadmat(data_dir / 'Dog_1' / 'Dog_1_interictal_segment_0001.mat')\n",
    "data = load_mat(mat)\n",
    "info_mat(data)"
   ]
  },
  {
   "cell_type": "code",
   "execution_count": 133,
   "metadata": {
    "ExecuteTime": {
     "end_time": "2019-03-10T16:24:57.041246Z",
     "start_time": "2019-03-10T16:24:56.898507Z"
    }
   },
   "outputs": [
    {
     "data": {
      "text/plain": [
       "<matplotlib.axes._subplots.AxesSubplot at 0x7fb8587f0a90>"
      ]
     },
     "execution_count": 133,
     "metadata": {},
     "output_type": "execute_result"
    },
    {
     "data": {
      "image/png": "[encoded data removed]",
      "text/plain": [
       "<Figure size 432x288 with 1 Axes>"
      ]
     },
     "metadata": {
      "needs_background": "light"
     },
     "output_type": "display_data"
    }
   ],
   "source": [
    "pd.Series(data['data'][0][:2000]).plot()"
   ]
  },
  {
   "cell_type": "code",
   "execution_count": null,
   "metadata": {},
   "outputs": [],
   "source": []
  }
 ],
 "metadata": {
  "kernelspec": {
   "display_name": "kaggle",
   "language": "python",
   "name": "kaggle"
  },
  "language_info": {
   "codemirror_mode": {
    "name": "ipython",
    "version": 3
   },
   "file_extension": ".py",
   "mimetype": "text/x-python",
   "name": "python",
   "nbconvert_exporter": "python",
   "pygments_lexer": "ipython3",
   "version": "3.6.8"
  }
 },
 "nbformat": 4,
 "nbformat_minor": 2
}
