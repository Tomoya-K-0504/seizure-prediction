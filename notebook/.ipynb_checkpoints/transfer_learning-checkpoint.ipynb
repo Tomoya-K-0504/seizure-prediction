{
 "cells": [
  {
   "cell_type": "code",
   "execution_count": 13,
   "metadata": {
    "ExecuteTime": {
     "end_time": "2019-03-12T11:12:44.231739Z",
     "start_time": "2019-03-12T11:12:44.223854Z"
    }
   },
   "outputs": [],
   "source": [
    "import os, sys, pdb, time\n",
    "from pathlib import Path\n",
    "import copy\n",
    "import pandas as pd\n",
    "import numpy as np\n",
    "import matplotlib.pyplot as plt\n",
    "import scipy.signal\n",
    "import pickle\n",
    "%matplotlib inline\n",
    "data_dir = Path('../input')\n",
    "model_dir = Path('../model')\n",
    "out_dir = Path('../output')\n",
    "subject_dir_names = ['Dog_1', 'Dog_2', 'Dog_3', 'Dog_4', 'Dog_5', 'Patient_1', 'Patient_2']\n",
    "partial_name_list = ['train', 'val', 'test']\n",
    "class_names = ['preictal', 'interictal']"
   ]
  },
  {
   "cell_type": "code",
   "execution_count": 2,
   "metadata": {
    "ExecuteTime": {
     "end_time": "2019-03-12T10:44:57.090727Z",
     "start_time": "2019-03-12T10:44:56.634439Z"
    }
   },
   "outputs": [],
   "source": [
    "import torch\n",
    "from torch import nn\n",
    "import torchvision\n",
    "seed = 0\n",
    "np.random.seed(seed)\n",
    "torch.manual_seed(seed)\n",
    "torch.cuda.manual_seed_all(seed)\n",
    "import random\n",
    "random.seed(seed)\n",
    "from torch.utils.data import Dataset, DataLoader\n",
    "from torchvision import transforms, utils, models"
   ]
  },
  {
   "cell_type": "code",
   "execution_count": 17,
   "metadata": {
    "ExecuteTime": {
     "end_time": "2019-03-14T13:40:54.044938Z",
     "start_time": "2019-03-14T13:40:54.035824Z"
    }
   },
   "outputs": [
    {
     "data": {
      "text/plain": [
       "{'__name__': '__main__',\n",
       " '__doc__': 'Automatically created module for IPython interactive environment',\n",
       " '__package__': None,\n",
       " '__loader__': None,\n",
       " '__spec__': None,\n",
       " '__builtin__': <module 'builtins' (built-in)>,\n",
       " '__builtins__': <module 'builtins' (built-in)>,\n",
       " '_ih': ['',\n",
       "  'from sklearn import metrics\\nimport eeglib',\n",
       "  \"from sklearn import metrics\\nimport eeglib\\nget_ipython().run_line_magic('autoreload', '1')\",\n",
       "  \"get_ipython().system('pwd')\",\n",
       "  \"get_ipython().system('cd ../')\",\n",
       "  \"get_ipython().system('cd ../')\\nget_ipython().system('pwd')\",\n",
       "  'import os\\nos.chdir',\n",
       "  'import os\\nos.chdir()',\n",
       "  \"import os\\nos.chdir('../')\",\n",
       "  \"get_ipython().system('ls')\",\n",
       "  \"from sklearn import metrics\\nimport eeglib\\nget_ipython().run_line_magic('autoreload', '1')\",\n",
       "  '__file__',\n",
       "  '__file__()',\n",
       "  '__name__',\n",
       "  'locals()',\n",
       "  '__file__',\n",
       "  '__file__()',\n",
       "  'locals()'],\n",
       " '_oh': {6: <function posix.chdir(path)>, 13: '__main__', 14: {...}},\n",
       " '_dh': ['/home/tomoya/workspace/kaggle/seizure-prediction/notebook'],\n",
       " 'In': ['',\n",
       "  'from sklearn import metrics\\nimport eeglib',\n",
       "  \"from sklearn import metrics\\nimport eeglib\\nget_ipython().run_line_magic('autoreload', '1')\",\n",
       "  \"get_ipython().system('pwd')\",\n",
       "  \"get_ipython().system('cd ../')\",\n",
       "  \"get_ipython().system('cd ../')\\nget_ipython().system('pwd')\",\n",
       "  'import os\\nos.chdir',\n",
       "  'import os\\nos.chdir()',\n",
       "  \"import os\\nos.chdir('../')\",\n",
       "  \"get_ipython().system('ls')\",\n",
       "  \"from sklearn import metrics\\nimport eeglib\\nget_ipython().run_line_magic('autoreload', '1')\",\n",
       "  '__file__',\n",
       "  '__file__()',\n",
       "  '__name__',\n",
       "  'locals()',\n",
       "  '__file__',\n",
       "  '__file__()',\n",
       "  'locals()'],\n",
       " 'Out': {6: <function posix.chdir(path)>, 13: '__main__', 14: {...}},\n",
       " 'get_ipython': <bound method InteractiveShell.get_ipython of <ipykernel.zmqshell.ZMQInteractiveShell object at 0x7f1a59adbd68>>,\n",
       " 'exit': <IPython.core.autocall.ZMQExitAutocall at 0x7f1a58aa8fd0>,\n",
       " 'quit': <IPython.core.autocall.ZMQExitAutocall at 0x7f1a58aa8fd0>,\n",
       " '_': {...},\n",
       " '__': '__main__',\n",
       " '___': <function posix.chdir(path)>,\n",
       " 'isort': <module 'isort' from '/home/tomoya/anaconda3/envs/kaggle/lib/python3.6/site-packages/isort/__init__.py'>,\n",
       " 'json': <module 'json' from '/home/tomoya/anaconda3/envs/kaggle/lib/python3.6/json/__init__.py'>,\n",
       " '_isort_refactor_cell': <function __main__._isort_refactor_cell(src)>,\n",
       " 'autopep8': <module 'autopep8' from '/home/tomoya/anaconda3/envs/kaggle/lib/python3.6/site-packages/autopep8.py'>,\n",
       " '_i': '__file__()',\n",
       " '_ii': '__file__',\n",
       " '_iii': 'locals()',\n",
       " '_i1': 'from sklearn import metrics\\nimport eeglib',\n",
       " 'metrics': <module 'sklearn.metrics' from '/home/tomoya/anaconda3/envs/kaggle/lib/python3.6/site-packages/sklearn/metrics/__init__.py'>,\n",
       " '_i2': 'from sklearn import metrics\\nimport eeglib\\n%autoreload 1',\n",
       " '_i3': '!pwd',\n",
       " '_exit_code': 0,\n",
       " '_i4': '!cd ../',\n",
       " '_i5': '!cd ../\\n!pwd',\n",
       " '_i6': 'import os\\nos.chdir',\n",
       " 'os': <module 'os' from '/home/tomoya/anaconda3/envs/kaggle/lib/python3.6/os.py'>,\n",
       " '_6': <function posix.chdir(path)>,\n",
       " '_i7': 'import os\\nos.chdir()',\n",
       " '_i8': \"import os\\nos.chdir('../')\",\n",
       " '_i9': '!ls',\n",
       " '_i10': 'from sklearn import metrics\\nimport eeglib\\n%autoreload 1',\n",
       " 'eeglib': <module 'eeglib' from '/home/tomoya/workspace/kaggle/seizure-prediction/eeglib/__init__.py'>,\n",
       " '_i11': '__file__',\n",
       " '_i12': '__file__()',\n",
       " '_i13': '__name__',\n",
       " '_13': '__main__',\n",
       " '_i14': 'locals()',\n",
       " '_14': {...},\n",
       " '_i15': '__file__',\n",
       " '_i16': '__file__()',\n",
       " '_i17': 'locals()'}"
      ]
     },
     "execution_count": 17,
     "metadata": {},
     "output_type": "execute_result"
    }
   ],
   "source": [
    "locals()"
   ]
  },
  {
   "cell_type": "code",
   "execution_count": 8,
   "metadata": {
    "ExecuteTime": {
     "end_time": "2019-03-14T13:38:17.752880Z",
     "start_time": "2019-03-14T13:38:17.745314Z"
    }
   },
   "outputs": [],
   "source": [
    "import os\n",
    "os.chdir(../)"
   ]
  },
  {
   "cell_type": "code",
   "execution_count": 20,
   "metadata": {
    "ExecuteTime": {
     "end_time": "2019-03-14T13:43:08.955755Z",
     "start_time": "2019-03-14T13:43:08.932381Z"
    }
   },
   "outputs": [],
   "source": [
    "from sklearn import metrics\n",
    "import eeglib\n",
    "%load_ext autoreload\n",
    "%autoreload 1"
   ]
  },
  {
   "cell_type": "code",
   "execution_count": 4,
   "metadata": {
    "ExecuteTime": {
     "end_time": "2019-03-12T10:44:57.196866Z",
     "start_time": "2019-03-12T10:44:57.187715Z"
    }
   },
   "outputs": [],
   "source": [
    "def move_file(src_path, dst_path):\n",
    "    os.rename(str(src_path), str(dst_path))\n",
    "\n",
    "    \n",
    "def split_seizure_dataset(data_dir, train_ratio=0.8, shuffle=False, grouping_again=False):\n",
    "    partial_dirs = {part: Path(data_dir) / part for part in partial_name_list}\n",
    "    \n",
    "    for partial_data_path in list(partial_dirs.values()):\n",
    "        partial_data_path.mkdir(exist_ok=True)    \n",
    "        if grouping_again:\n",
    "            [move_file(p, str(data_dir)+'/'+p.name) for p in list(partial_data_path.iterdir())]\n",
    "    file_paths = list(Path(data_dir).iterdir())\n",
    "    file_paths = [path for path in file_paths if path.is_file()]\n",
    "    \n",
    "    if shuffle:\n",
    "        random.seed(0)\n",
    "        file_paths.sort()\n",
    "        random.shuffle(file_paths)\n",
    "        \n",
    "    preictal_files = [path for path in file_paths if 'preictal' in path.name]\n",
    "    interictal_files = [path for path in file_paths if 'interictal' in path.name]\n",
    "    test_files = [path for path in file_paths if 'test' in path.name]\n",
    "    \n",
    "    print('{} : \\n # of preictal_files \\t {} \\n # of interictal_files \\t {}'.format(\n",
    "        data_dir.name, len(preictal_files), len(interictal_files)))\n",
    "\n",
    "    for file_path in test_files:\n",
    "        move_file(src_path=file_path, dst_path=partial_dirs['test'] / file_path.name)\n",
    "\n",
    "    for file_paths in [preictal_files, interictal_files]:\n",
    "        for i, file_path in enumerate(file_paths):\n",
    "            if i <= int(len(file_paths)*train_ratio):\n",
    "                move_file(src_path=file_path, dst_path=partial_dirs['train'] / file_path.name)\n",
    "            else:\n",
    "                move_file(src_path=file_path, dst_path=partial_dirs['val'] / file_path.name)\n"
   ]
  },
  {
   "cell_type": "code",
   "execution_count": 5,
   "metadata": {
    "ExecuteTime": {
     "end_time": "2019-03-12T10:44:58.028731Z",
     "start_time": "2019-03-12T10:44:57.611591Z"
    }
   },
   "outputs": [
    {
     "name": "stdout",
     "output_type": "stream",
     "text": [
      "Dog_1 : \n",
      " # of preictal_files \t 24 \n",
      " # of interictal_files \t 480\n",
      "Dog_2 : \n",
      " # of preictal_files \t 42 \n",
      " # of interictal_files \t 500\n",
      "Dog_3 : \n",
      " # of preictal_files \t 72 \n",
      " # of interictal_files \t 1440\n",
      "Dog_4 : \n",
      " # of preictal_files \t 97 \n",
      " # of interictal_files \t 804\n",
      "Dog_5 : \n",
      " # of preictal_files \t 30 \n",
      " # of interictal_files \t 450\n",
      "Patient_1 : \n",
      " # of preictal_files \t 18 \n",
      " # of interictal_files \t 50\n",
      "Patient_2 : \n",
      " # of preictal_files \t 18 \n",
      " # of interictal_files \t 42\n"
     ]
    }
   ],
   "source": [
    "for subject_dir_name in subject_dir_names:\n",
    "    split_seizure_dataset(data_dir / subject_dir_name, train_ratio=0.8, shuffle=True, grouping_again=True)"
   ]
  },
  {
   "cell_type": "code",
   "execution_count": 6,
   "metadata": {
    "ExecuteTime": {
     "end_time": "2019-03-12T10:44:58.036040Z",
     "start_time": "2019-03-12T10:44:58.030121Z"
    }
   },
   "outputs": [
    {
     "data": {
      "text/plain": [
       "{'sample_rate': 16000,\n",
       " 'window_size': 0.02,\n",
       " 'window_stride': 0.01,\n",
       " 'window': 'hamming',\n",
       " 'noise_dir': None,\n",
       " 'noise_prob': 0.4,\n",
       " 'noise_levels': (0.0, 0.5)}"
      ]
     },
     "execution_count": 6,
     "metadata": {},
     "output_type": "execute_result"
    }
   ],
   "source": [
    "# eeg_conf = dict(sample_rate=args.sample_rate,\n",
    "#                 window_size=args.window_size,\n",
    "#                 window_stride=args.window_stride,\n",
    "#                 window=args.window,\n",
    "#                 noise_dir=args.noise_dir,\n",
    "#                 noise_prob=args.noise_prob,\n",
    "#                 noise_levels=(args.noise_min, args.noise_max)\n",
    "eeg_conf = dict(sample_rate=16000,\n",
    "                window_size=0.02,\n",
    "                window_stride=0.01,\n",
    "                window='hamming',\n",
    "                noise_dir=None,\n",
    "                noise_prob=0.4,\n",
    "                noise_levels=(0.0, 0.5))\n",
    "windows = {'hamming': scipy.signal.hamming, 'hann': scipy.signal.hann, 'blackman': scipy.signal.blackman,\n",
    "           'bartlett': scipy.signal.bartlett}\n",
    "eeg_conf"
   ]
  },
  {
   "cell_type": "code",
   "execution_count": 14,
   "metadata": {
    "ExecuteTime": {
     "end_time": "2019-03-12T11:20:51.757995Z",
     "start_time": "2019-03-12T11:20:51.721953Z"
    },
    "code_folding": []
   },
   "outputs": [],
   "source": [
    "class EEGParser:\n",
    "    def __init__(self, eeg_conf, normalize=False, augment=False):\n",
    "        self.window_stride = eeg_conf['window_stride']\n",
    "        self.window_size = eeg_conf['window_size']\n",
    "        self.sample_rate = eeg_conf['sample_rate']\n",
    "        self.window = windows.get(eeg_conf['window'], windows['hamming'])\n",
    "        self.normalize = normalize\n",
    "        self.augment = augment\n",
    "    \n",
    "    def parse_eeg(self, eeg_path) -> np.array:\n",
    "        if self.augment:\n",
    "            raise NotImplementedError\n",
    "        else:\n",
    "            eeg = EEG(eeg_path).load()\n",
    "            y = eeg['data']\n",
    "        \n",
    "        return y\n",
    "        \n",
    "        \n",
    "class EEGDataSet(Dataset, EEGParser):\n",
    "    def __init__(self, manifest_filepath, normalize=False, augment=False):\n",
    "        with open(manifest_filepath, 'r') as f:\n",
    "            path_list = f.readlines()\n",
    "        path_list = [p.strip() for p in path_list]\n",
    "        \n",
    "        self.path_list = path_list\n",
    "        self.size = len(path_list)\n",
    "        super(EEGDataSet, self).__init__(eeg_conf, normalize, augment)\n",
    "    \n",
    "    def __getitem__(self, index):\n",
    "        eeg_path = self.path_list[index]\n",
    "        y = self.parse_eeg(eeg_path)\n",
    "        label = eeg_path.split('_')[2]\n",
    "        return y, label\n",
    "        \n",
    "    def __len__(self):\n",
    "        return self.size\n",
    "\n",
    "    \n",
    "class EEGDataLoader(DataLoader):\n",
    "    def __init__(self, *args, **kwargs):\n",
    "        super(EEGDataLoader, self).__init__(*args, **kwargs)"
   ]
  },
  {
   "cell_type": "code",
   "execution_count": 8,
   "metadata": {
    "ExecuteTime": {
     "end_time": "2019-03-12T10:44:59.459878Z",
     "start_time": "2019-03-12T10:44:59.457783Z"
    }
   },
   "outputs": [],
   "source": [
    "def compile_manifest(data_dir, csv_name):\n",
    "    raise NotImplementedError"
   ]
  },
  {
   "cell_type": "code",
   "execution_count": 9,
   "metadata": {
    "ExecuteTime": {
     "end_time": "2019-03-12T10:45:00.226243Z",
     "start_time": "2019-03-12T10:45:00.223112Z"
    }
   },
   "outputs": [
    {
     "data": {
      "text/plain": [
       "['train', 'val', 'test']"
      ]
     },
     "execution_count": 9,
     "metadata": {},
     "output_type": "execute_result"
    }
   ],
   "source": [
    "partial_name_list"
   ]
  },
  {
   "cell_type": "code",
   "execution_count": 10,
   "metadata": {
    "ExecuteTime": {
     "end_time": "2019-03-12T10:45:00.908362Z",
     "start_time": "2019-03-12T10:45:00.865645Z"
    }
   },
   "outputs": [],
   "source": [
    "Path(data_dir / 'manifests').mkdir(exist_ok=True)\n",
    "data_version = 'Dog_1'\n",
    "for partial_name in partial_name_list:\n",
    "    df = pd.DataFrame(list(Path(data_dir / 'Dog_1' / partial_name).resolve().iterdir()))\n",
    "    df.to_csv(str(data_dir / 'manifests' / '{}_{}_manifest.csv'.format(data_version, partial_name)), \n",
    "              header=None, index=False)"
   ]
  },
  {
   "cell_type": "code",
   "execution_count": 11,
   "metadata": {
    "ExecuteTime": {
     "end_time": "2019-03-12T10:45:01.389571Z",
     "start_time": "2019-03-12T10:45:01.386735Z"
    }
   },
   "outputs": [],
   "source": [
    "datasets = {\n",
    "    part: EEGDataSet(data_dir / 'manifests' / '{}_{}_manifest.csv'.format(data_version, part))\n",
    "    for part in partial_name_list\n",
    "}"
   ]
  },
  {
   "cell_type": "code",
   "execution_count": 12,
   "metadata": {
    "ExecuteTime": {
     "end_time": "2019-03-12T10:45:02.335023Z",
     "start_time": "2019-03-12T10:45:02.260494Z"
    }
   },
   "outputs": [
    {
     "data": {
      "text/plain": [
       "'cpu'"
      ]
     },
     "execution_count": 12,
     "metadata": {},
     "output_type": "execute_result"
    }
   ],
   "source": [
    "data_transforms = {\n",
    "    'train': transforms.Compose([\n",
    "        transforms.ToTensor(),\n",
    "    ]),\n",
    "    'val': transforms.Compose([\n",
    "        transforms.Resize(256),\n",
    "        transforms.CenterCrop(224),\n",
    "        transforms.ToTensor(),\n",
    "        transforms.Normalize([0.485, 0.456, 0.406], [0.229, 0.224, 0.225])\n",
    "    ]),\n",
    "}\n",
    "\n",
    "dataloaders = {part: EEGDataLoader(datasets[part], batch_size=2, num_workers=2) \n",
    "               for part in partial_name_list}\n",
    "\n",
    "device = torch.device(\"cuda:0\" if torch.cuda.is_available() else \"cpu\")\n",
    "device = 'cpu'\n",
    "device"
   ]
  },
  {
   "cell_type": "markdown",
   "metadata": {},
   "source": [
    "## datalo"
   ]
  },
  {
   "cell_type": "markdown",
   "metadata": {},
   "source": [
    "## いよいよmodelを書いていく"
   ]
  },
  {
   "cell_type": "code",
   "execution_count": 13,
   "metadata": {
    "ExecuteTime": {
     "end_time": "2019-03-12T04:25:55.008132Z",
     "start_time": "2019-03-12T04:25:55.000335Z"
    }
   },
   "outputs": [],
   "source": [
    "class AverageMeter(object):\n",
    "    \"\"\"Computes and stores the average and current value\"\"\"\n",
    "\n",
    "    def __init__(self):\n",
    "        self.reset()\n",
    "\n",
    "    def reset(self):\n",
    "        self.val = 0\n",
    "        self.avg = 0\n",
    "        self.sum = 0\n",
    "        self.count = 0\n",
    "\n",
    "    def update(self, val, n=1):\n",
    "        self.val = val\n",
    "        self.sum += val * n\n",
    "        self.count += n\n",
    "        self.avg = self.sum / self.count\n"
   ]
  },
  {
   "cell_type": "code",
   "execution_count": 14,
   "metadata": {
    "ExecuteTime": {
     "end_time": "2019-03-12T04:25:55.018706Z",
     "start_time": "2019-03-12T04:25:55.009763Z"
    }
   },
   "outputs": [],
   "source": [
    "class Args:\n",
    "    def __init__(self):\n",
    "        self.lr = 3e-4\n",
    "        self.epochs = 50\n",
    "        self.continue_from = False\n",
    "        self.momentum = 0.9"
   ]
  },
  {
   "cell_type": "code",
   "execution_count": 15,
   "metadata": {
    "ExecuteTime": {
     "end_time": "2019-03-12T04:25:57.333907Z",
     "start_time": "2019-03-12T04:25:55.020905Z"
    }
   },
   "outputs": [
    {
     "name": "stdout",
     "output_type": "stream",
     "text": [
      "{'__header__': b'MATLAB 5.0 MAT-file, Platform: MACI64, Created on: Thu Aug 21 01:00:00 2014', '__version__': '1.0', '__globals__': [], 'interictal_segment_347': array([[(array([[  1, -28, -48, ..., -18,  -6,  11],\n",
      "       [-12, -14, -30, ..., -80, -79, -84],\n",
      "       [-36, -29, -21, ...,  -1, -10,  -6],\n",
      "       ...,\n",
      "       [ 18,  28,  33, ...,  12,  17,  20],\n",
      "       [ -2,   7,  14, ...,  25,  18,  12],\n",
      "       [ -5,   0,   3, ...,  23,  20,  19]], dtype=int16), array([[600]], dtype=uint16), array([[399.6097561]]), array([[array(['NVC1202_32_002_Ecog_c001'], dtype='<U24'),\n",
      "        array(['NVC1202_32_002_Ecog_c002'], dtype='<U24'),\n",
      "        array(['NVC1202_32_002_Ecog_c003'], dtype='<U24'),\n",
      "        array(['NVC1202_32_002_Ecog_c004'], dtype='<U24'),\n",
      "        array(['NVC1202_32_002_Ecog_c005'], dtype='<U24'),\n",
      "        array(['NVC1202_32_002_Ecog_c006'], dtype='<U24'),\n",
      "        array(['NVC1202_32_002_Ecog_c007'], dtype='<U24'),\n",
      "        array(['NVC1202_32_002_Ecog_c008'], dtype='<U24'),\n",
      "        array(['NVC1202_32_002_Ecog_c009'], dtype='<U24'),\n",
      "        array(['NVC1202_32_002_Ecog_c010'], dtype='<U24'),\n",
      "        array(['NVC1202_32_002_Ecog_c011'], dtype='<U24'),\n",
      "        array(['NVC1202_32_002_Ecog_c012'], dtype='<U24'),\n",
      "        array(['NVC1202_32_002_Ecog_c013'], dtype='<U24'),\n",
      "        array(['NVC1202_32_002_Ecog_c014'], dtype='<U24'),\n",
      "        array(['NVC1202_32_002_Ecog_c015'], dtype='<U24'),\n",
      "        array(['NVC1202_32_002_Ecog_c016'], dtype='<U24')]], dtype=object), array([[5]], dtype=uint8))]],\n",
      "      dtype=[('data', 'O'), ('data_length_sec', 'O'), ('sampling_frequency', 'O'), ('channels', 'O'), ('sequence', 'O')])}\n",
      "{'__header__': b'MATLAB 5.0 MAT-file, Platform: MACI64, Created on: Thu Aug 21 01:00:00 2014', '__version__': '1.0', '__globals__': [], 'interictal_segment_216': array([[(array([[ 43,  40,  48, ...,  -9, -35, -43],\n",
      "       [ 29,  26,  22, ...,  50,  37,  13],\n",
      "       [ 26,  25,  24, ...,  40,  37,  30],\n",
      "       ...,\n",
      "       [-19, -14, -16, ..., -28, -33, -31],\n",
      "       [-55, -53, -49, ..., -24, -20, -11],\n",
      "       [-42, -39, -43, ..., -21, -16, -14]], dtype=int16), array([[600]], dtype=uint16), array([[399.6097561]]), array([[array(['NVC1202_32_002_Ecog_c001'], dtype='<U24'),\n",
      "        array(['NVC1202_32_002_Ecog_c002'], dtype='<U24'),\n",
      "        array(['NVC1202_32_002_Ecog_c003'], dtype='<U24'),\n",
      "        array(['NVC1202_32_002_Ecog_c004'], dtype='<U24'),\n",
      "        array(['NVC1202_32_002_Ecog_c005'], dtype='<U24'),\n",
      "        array(['NVC1202_32_002_Ecog_c006'], dtype='<U24'),\n",
      "        array(['NVC1202_32_002_Ecog_c007'], dtype='<U24'),\n",
      "        array(['NVC1202_32_002_Ecog_c008'], dtype='<U24'),\n",
      "        array(['NVC1202_32_002_Ecog_c009'], dtype='<U24'),\n",
      "        array(['NVC1202_32_002_Ecog_c010'], dtype='<U24'),\n",
      "        array(['NVC1202_32_002_Ecog_c011'], dtype='<U24'),\n",
      "        array(['NVC1202_32_002_Ecog_c012'], dtype='<U24'),\n",
      "        array(['NVC1202_32_002_Ecog_c013'], dtype='<U24'),\n",
      "        array(['NVC1202_32_002_Ecog_c014'], dtype='<U24'),\n",
      "        array(['NVC1202_32_002_Ecog_c015'], dtype='<U24'),\n",
      "        array(['NVC1202_32_002_Ecog_c016'], dtype='<U24')]], dtype=object), array([[6]], dtype=uint8))]],\n",
      "      dtype=[('data', 'O'), ('data_length_sec', 'O'), ('sampling_frequency', 'O'), ('channels', 'O'), ('sequence', 'O')])}\n",
      "{'__header__': b'MATLAB 5.0 MAT-file, Platform: MACI64, Created on: Thu Aug 21 01:00:00 2014', '__version__': '1.0', '__globals__': [], 'interictal_segment_445': array([[(array([[-17,  -8,   4, ...,   2,   2,  12],\n",
      "       [ 36,  38,  37, ...,  -4,  -4,   9],\n",
      "       [ 12,  14,  11, ...,  -5,  -4,  -8],\n",
      "       ...,\n",
      "       [ -1,  -4, -11, ...,  14,   7,   5],\n",
      "       [ 28,  28,  22, ...,  17,  17,  16],\n",
      "       [ 27,  27,  26, ...,   4,   8,   9]], dtype=int16), array([[600]], dtype=uint16), array([[399.6097561]]), array([[array(['NVC1202_32_002_Ecog_c001'], dtype='<U24'),\n",
      "        array(['NVC1202_32_002_Ecog_c002'], dtype='<U24'),\n",
      "        array(['NVC1202_32_002_Ecog_c003'], dtype='<U24'),\n",
      "        array(['NVC1202_32_002_Ecog_c004'], dtype='<U24'),\n",
      "        array(['NVC1202_32_002_Ecog_c005'], dtype='<U24'),\n",
      "        array(['NVC1202_32_002_Ecog_c006'], dtype='<U24'),\n",
      "        array(['NVC1202_32_002_Ecog_c007'], dtype='<U24'),\n",
      "        array(['NVC1202_32_002_Ecog_c008'], dtype='<U24'),\n",
      "        array(['NVC1202_32_002_Ecog_c009'], dtype='<U24'),\n",
      "        array(['NVC1202_32_002_Ecog_c010'], dtype='<U24'),\n",
      "        array(['NVC1202_32_002_Ecog_c011'], dtype='<U24'),\n",
      "        array(['NVC1202_32_002_Ecog_c012'], dtype='<U24'),\n",
      "        array(['NVC1202_32_002_Ecog_c013'], dtype='<U24'),\n",
      "        array(['NVC1202_32_002_Ecog_c014'], dtype='<U24'),\n",
      "        array(['NVC1202_32_002_Ecog_c015'], dtype='<U24'),\n",
      "        array(['NVC1202_32_002_Ecog_c016'], dtype='<U24')]], dtype=object), array([[1]], dtype=uint8))]],\n",
      "      dtype=[('data', 'O'), ('data_length_sec', 'O'), ('sampling_frequency', 'O'), ('channels', 'O'), ('sequence', 'O')])}\n",
      "{'__header__': b'MATLAB 5.0 MAT-file, Platform: MACI64, Created on: Thu Aug 21 01:00:00 2014', '__version__': '1.0', '__globals__': [], 'interictal_segment_451': array([[(array([[-28, -15,   0, ..., -23, -26, -27],\n",
      "       [-22, -17,  -1, ..., -15,   0,   9],\n",
      "       [-10,  -9, -17, ...,  15,  13,   6],\n",
      "       ...,\n",
      "       [  9,   0,  -4, ...,  -7, -12,  -2],\n",
      "       [ 28,  25,  16, ...,  43,  35,  30],\n",
      "       [ 17,  22,  22, ...,  31,  22,  12]], dtype=int16), array([[600]], dtype=uint16), array([[399.6097561]]), array([[array(['NVC1202_32_002_Ecog_c001'], dtype='<U24'),\n",
      "        array(['NVC1202_32_002_Ecog_c002'], dtype='<U24'),\n",
      "        array(['NVC1202_32_002_Ecog_c003'], dtype='<U24'),\n",
      "        array(['NVC1202_32_002_Ecog_c004'], dtype='<U24'),\n",
      "        array(['NVC1202_32_002_Ecog_c005'], dtype='<U24'),\n",
      "        array(['NVC1202_32_002_Ecog_c006'], dtype='<U24'),\n",
      "        array(['NVC1202_32_002_Ecog_c007'], dtype='<U24'),\n",
      "        array(['NVC1202_32_002_Ecog_c008'], dtype='<U24'),\n",
      "        array(['NVC1202_32_002_Ecog_c009'], dtype='<U24'),\n",
      "        array(['NVC1202_32_002_Ecog_c010'], dtype='<U24'),\n",
      "        array(['NVC1202_32_002_Ecog_c011'], dtype='<U24'),\n",
      "        array(['NVC1202_32_002_Ecog_c012'], dtype='<U24'),\n",
      "        array(['NVC1202_32_002_Ecog_c013'], dtype='<U24'),\n",
      "        array(['NVC1202_32_002_Ecog_c014'], dtype='<U24'),\n",
      "        array(['NVC1202_32_002_Ecog_c015'], dtype='<U24'),\n",
      "        array(['NVC1202_32_002_Ecog_c016'], dtype='<U24')]], dtype=object), array([[1]], dtype=uint8))]],\n",
      "      dtype=[('data', 'O'), ('data_length_sec', 'O'), ('sampling_frequency', 'O'), ('channels', 'O'), ('sequence', 'O')])}\n",
      "{'__header__': b'MATLAB 5.0 MAT-file, Platform: MACI64, Created on: Thu Aug 21 01:00:00 2014', '__version__': '1.0', '__globals__': [], 'interictal_segment_423': array([[(array([[-56, -57, -59, ...,   6,  25,  31],\n",
      "       [  3, -16, -22, ...,   0,   2,  -8],\n",
      "       [ 15,  12,  20, ...,  16,  24,  24],\n",
      "       ...,\n",
      "       [  4,  28,  41, ..., -10, -22, -10],\n",
      "       [  2,   2,   0, ..., -11,  -9,  -4],\n",
      "       [ 22,  18,   7, ..., -22, -15, -17]], dtype=int16), array([[600]], dtype=uint16), array([[399.6097561]]), array([[array(['NVC1202_32_002_Ecog_c001'], dtype='<U24'),\n",
      "        array(['NVC1202_32_002_Ecog_c002'], dtype='<U24'),\n",
      "        array(['NVC1202_32_002_Ecog_c003'], dtype='<U24'),\n",
      "        array(['NVC1202_32_002_Ecog_c004'], dtype='<U24'),\n",
      "        array(['NVC1202_32_002_Ecog_c005'], dtype='<U24'),\n",
      "        array(['NVC1202_32_002_Ecog_c006'], dtype='<U24'),\n",
      "        array(['NVC1202_32_002_Ecog_c007'], dtype='<U24'),\n",
      "        array(['NVC1202_32_002_Ecog_c008'], dtype='<U24'),\n",
      "        array(['NVC1202_32_002_Ecog_c009'], dtype='<U24'),\n",
      "        array(['NVC1202_32_002_Ecog_c010'], dtype='<U24'),\n",
      "        array(['NVC1202_32_002_Ecog_c011'], dtype='<U24'),\n",
      "        array(['NVC1202_32_002_Ecog_c012'], dtype='<U24'),\n",
      "        array(['NVC1202_32_002_Ecog_c013'], dtype='<U24'),\n",
      "        array(['NVC1202_32_002_Ecog_c014'], dtype='<U24'),\n",
      "        array(['NVC1202_32_002_Ecog_c015'], dtype='<U24'),\n",
      "        array(['NVC1202_32_002_Ecog_c016'], dtype='<U24')]], dtype=object), array([[3]], dtype=uint8))]],\n",
      "      dtype=[('data', 'O'), ('data_length_sec', 'O'), ('sampling_frequency', 'O'), ('channels', 'O'), ('sequence', 'O')])}\n"
     ]
    },
    {
     "ename": "KeyError",
     "evalue": "'Traceback (most recent call last):\\n  File \"<ipython-input-7-a578fd81c1d8>\", line 44, in _parse_mat\\n    for i, key in enumerate(mat[self.data_col].dtype.names):\\nKeyError: \\'1_interictal_segment\\'\\n\\nDuring handling of the above exception, another exception occurred:\\n\\nTraceback (most recent call last):\\n  File \"/home/tomoya/anaconda3/envs/kaggle/lib/python3.6/site-packages/torch/utils/data/dataloader.py\", line 138, in _worker_loop\\n    samples = collate_fn([dataset[i] for i in batch_indices])\\n  File \"/home/tomoya/anaconda3/envs/kaggle/lib/python3.6/site-packages/torch/utils/data/dataloader.py\", line 138, in <listcomp>\\n    samples = collate_fn([dataset[i] for i in batch_indices])\\n  File \"<ipython-input-7-a578fd81c1d8>\", line 99, in __getitem__\\n    y = self.parse_eeg(eeg_path)\\n  File \"<ipython-input-7-a578fd81c1d8>\", line 81, in parse_eeg\\n    eeg = EEG(eeg_path).load()\\n  File \"<ipython-input-7-a578fd81c1d8>\", line 20, in load\\n    eeg = self._parse_mat()\\n  File \"<ipython-input-7-a578fd81c1d8>\", line 48, in _parse_mat\\n    \"not implemented except this key.\".format(self.data_file))\\nKeyError: \"eeg_file {} doesn\\'t have info about \\'interictal_segment_1\\', not implemented except this key.\"\\n'",
     "output_type": "error",
     "traceback": [
      "\u001b[0;31m---------------------------------------------------------\u001b[0m",
      "\u001b[0;31mKeyError\u001b[0m                Traceback (most recent call last)",
      "\u001b[0;32m<ipython-input-15-99a6162e49bf>\u001b[0m in \u001b[0;36m<module>\u001b[0;34m\u001b[0m\n\u001b[1;32m     47\u001b[0m \u001b[0;31m#             scheduler.step()\u001b[0m\u001b[0;34m\u001b[0m\u001b[0;34m\u001b[0m\u001b[0;34m\u001b[0m\u001b[0m\n\u001b[1;32m     48\u001b[0m \u001b[0;34m\u001b[0m\u001b[0m\n\u001b[0;32m---> 49\u001b[0;31m         \u001b[0;32mfor\u001b[0m \u001b[0mi\u001b[0m\u001b[0;34m,\u001b[0m \u001b[0minputs\u001b[0m\u001b[0;34m,\u001b[0m \u001b[0mlabels\u001b[0m \u001b[0;32min\u001b[0m \u001b[0menumerate\u001b[0m\u001b[0;34m(\u001b[0m\u001b[0mdataloaders\u001b[0m\u001b[0;34m[\u001b[0m\u001b[0mphase\u001b[0m\u001b[0;34m]\u001b[0m\u001b[0;34m)\u001b[0m\u001b[0;34m:\u001b[0m\u001b[0;34m\u001b[0m\u001b[0;34m\u001b[0m\u001b[0m\n\u001b[0m\u001b[1;32m     50\u001b[0m             \u001b[0;31m# measure data loading time\u001b[0m\u001b[0;34m\u001b[0m\u001b[0;34m\u001b[0m\u001b[0;34m\u001b[0m\u001b[0m\n\u001b[1;32m     51\u001b[0m             \u001b[0mdata_time\u001b[0m\u001b[0;34m.\u001b[0m\u001b[0mupdate\u001b[0m\u001b[0;34m(\u001b[0m\u001b[0mtime\u001b[0m\u001b[0;34m.\u001b[0m\u001b[0mtime\u001b[0m\u001b[0;34m(\u001b[0m\u001b[0;34m)\u001b[0m \u001b[0;34m-\u001b[0m \u001b[0mend\u001b[0m\u001b[0;34m)\u001b[0m\u001b[0;34m\u001b[0m\u001b[0;34m\u001b[0m\u001b[0m\n",
      "\u001b[0;32m~/anaconda3/envs/kaggle/lib/python3.6/site-packages/torch/utils/data/dataloader.py\u001b[0m in \u001b[0;36m__next__\u001b[0;34m(self)\u001b[0m\n\u001b[1;32m    635\u001b[0m                 \u001b[0mself\u001b[0m\u001b[0;34m.\u001b[0m\u001b[0mreorder_dict\u001b[0m\u001b[0;34m[\u001b[0m\u001b[0midx\u001b[0m\u001b[0;34m]\u001b[0m \u001b[0;34m=\u001b[0m \u001b[0mbatch\u001b[0m\u001b[0;34m\u001b[0m\u001b[0;34m\u001b[0m\u001b[0m\n\u001b[1;32m    636\u001b[0m                 \u001b[0;32mcontinue\u001b[0m\u001b[0;34m\u001b[0m\u001b[0;34m\u001b[0m\u001b[0m\n\u001b[0;32m--> 637\u001b[0;31m             \u001b[0;32mreturn\u001b[0m \u001b[0mself\u001b[0m\u001b[0;34m.\u001b[0m\u001b[0m_process_next_batch\u001b[0m\u001b[0;34m(\u001b[0m\u001b[0mbatch\u001b[0m\u001b[0;34m)\u001b[0m\u001b[0;34m\u001b[0m\u001b[0;34m\u001b[0m\u001b[0m\n\u001b[0m\u001b[1;32m    638\u001b[0m \u001b[0;34m\u001b[0m\u001b[0m\n\u001b[1;32m    639\u001b[0m     \u001b[0mnext\u001b[0m \u001b[0;34m=\u001b[0m \u001b[0m__next__\u001b[0m  \u001b[0;31m# Python 2 compatibility\u001b[0m\u001b[0;34m\u001b[0m\u001b[0;34m\u001b[0m\u001b[0m\n",
      "\u001b[0;32m~/anaconda3/envs/kaggle/lib/python3.6/site-packages/torch/utils/data/dataloader.py\u001b[0m in \u001b[0;36m_process_next_batch\u001b[0;34m(self, batch)\u001b[0m\n\u001b[1;32m    656\u001b[0m         \u001b[0mself\u001b[0m\u001b[0;34m.\u001b[0m\u001b[0m_put_indices\u001b[0m\u001b[0;34m(\u001b[0m\u001b[0;34m)\u001b[0m\u001b[0;34m\u001b[0m\u001b[0;34m\u001b[0m\u001b[0m\n\u001b[1;32m    657\u001b[0m         \u001b[0;32mif\u001b[0m \u001b[0misinstance\u001b[0m\u001b[0;34m(\u001b[0m\u001b[0mbatch\u001b[0m\u001b[0;34m,\u001b[0m \u001b[0mExceptionWrapper\u001b[0m\u001b[0;34m)\u001b[0m\u001b[0;34m:\u001b[0m\u001b[0;34m\u001b[0m\u001b[0;34m\u001b[0m\u001b[0m\n\u001b[0;32m--> 658\u001b[0;31m             \u001b[0;32mraise\u001b[0m \u001b[0mbatch\u001b[0m\u001b[0;34m.\u001b[0m\u001b[0mexc_type\u001b[0m\u001b[0;34m(\u001b[0m\u001b[0mbatch\u001b[0m\u001b[0;34m.\u001b[0m\u001b[0mexc_msg\u001b[0m\u001b[0;34m)\u001b[0m\u001b[0;34m\u001b[0m\u001b[0;34m\u001b[0m\u001b[0m\n\u001b[0m\u001b[1;32m    659\u001b[0m         \u001b[0;32mreturn\u001b[0m \u001b[0mbatch\u001b[0m\u001b[0;34m\u001b[0m\u001b[0;34m\u001b[0m\u001b[0m\n\u001b[1;32m    660\u001b[0m \u001b[0;34m\u001b[0m\u001b[0m\n",
      "\u001b[0;31mKeyError\u001b[0m: 'Traceback (most recent call last):\\n  File \"<ipython-input-7-a578fd81c1d8>\", line 44, in _parse_mat\\n    for i, key in enumerate(mat[self.data_col].dtype.names):\\nKeyError: \\'1_interictal_segment\\'\\n\\nDuring handling of the above exception, another exception occurred:\\n\\nTraceback (most recent call last):\\n  File \"/home/tomoya/anaconda3/envs/kaggle/lib/python3.6/site-packages/torch/utils/data/dataloader.py\", line 138, in _worker_loop\\n    samples = collate_fn([dataset[i] for i in batch_indices])\\n  File \"/home/tomoya/anaconda3/envs/kaggle/lib/python3.6/site-packages/torch/utils/data/dataloader.py\", line 138, in <listcomp>\\n    samples = collate_fn([dataset[i] for i in batch_indices])\\n  File \"<ipython-input-7-a578fd81c1d8>\", line 99, in __getitem__\\n    y = self.parse_eeg(eeg_path)\\n  File \"<ipython-input-7-a578fd81c1d8>\", line 81, in parse_eeg\\n    eeg = EEG(eeg_path).load()\\n  File \"<ipython-input-7-a578fd81c1d8>\", line 20, in load\\n    eeg = self._parse_mat()\\n  File \"<ipython-input-7-a578fd81c1d8>\", line 48, in _parse_mat\\n    \"not implemented except this key.\".format(self.data_file))\\nKeyError: \"eeg_file {} doesn\\'t have info about \\'interictal_segment_1\\', not implemented except this key.\"\\n'"
     ]
    }
   ],
   "source": [
    "# train.py\n",
    "# if __name__ == '__main__':\n",
    "# parse args\n",
    "args = Args()\n",
    "# set seeds: torch, cuda, np, random\n",
    "# device setting\n",
    "# make best model save dir\n",
    "model_dir = model_dir\n",
    "model_dir.mkdir(exist_ok=True)\n",
    "\n",
    "roc_results, prec_results, rec_results = torch.Tensor(args.epochs), torch.Tensor(args.epochs), torch.Tensor(\n",
    "    args.epochs)\n",
    "\n",
    "best_roc = None\n",
    "\n",
    "avg_loss, avg_auc, start_epoch, start_iter, optim_state = 0, 0, 0, 0, None\n",
    "\n",
    "if args.continue_from:  # TODO: Starting from previous model\n",
    "    raise NotImplementedError\n",
    "    \n",
    "model = models.vgg11_bn(pretrained=True)\n",
    "num_ftrs = model.classifier[6].in_features\n",
    "model.classifier[6] = nn.Linear(num_ftrs, len(class_names))\n",
    "input_size = 224\n",
    "model = model.to(device)\n",
    "\n",
    "parameters = model.parameters()\n",
    "optimizer = torch.optim.SGD(parameters, lr=args.lr,\n",
    "                            momentum=args.momentum, nesterov=True, weight_decay=1e-5)\n",
    "\n",
    "if optim_state is not None:\n",
    "    optimizer.load_state_dict(optim_state)\n",
    "\n",
    "# print(model)\n",
    "\n",
    "criterion = nn.BCELoss()\n",
    "batch_time = AverageMeter()\n",
    "data_time = AverageMeter()\n",
    "losses = AverageMeter()\n",
    "\n",
    "for epoch in range(start_epoch, args.epochs):\n",
    "    end = time.time()\n",
    "    start_epoch_time = time.time()\n",
    "    \n",
    "    for phase in ['train', 'val']:\n",
    "#         if phase == 'train':\n",
    "#             scheduler.step()\n",
    "        \n",
    "        for i, inputs, labels in enumerate(dataloaders[phase]):\n",
    "            # measure data loading time\n",
    "            data_time.update(time.time() - end)\n",
    "            inputs = inputs.to(device)\n",
    "            labels = labels.to(device)\n",
    "            \n",
    "            optimizer.zero_grad()\n",
    "            \n",
    "            with torch.set_grad_enabled(phase == 'train'):\n",
    "                pdb.set_trace()\n",
    "                outputs = model(inputs)\n",
    "                _, preds = torch.max(outputs, 1)\n",
    "                loss = criterion(outputs, labels)\n",
    "                \n",
    "                if phase == 'train':\n",
    "                    loss.backward()\n",
    "                    optimizer.step()\n",
    "                    \n",
    "            avg_loss += loss.item()\n",
    "            avg_auc += metrics.auc(labels, outputs)\n",
    "            losses.update(loss_value, inputs.size(0))\n",
    "            \n",
    "            # measure elapsed time\n",
    "            batch_time.update(time.time() - end)\n",
    "            end = time.time()\n",
    "            if True: #not args.silent:\n",
    "                print('Epoch: [{0}][{1}/{2}]\\t'\n",
    "                      'Time {batch_time.val:.3f} ({batch_time.avg:.3f})\\t'\n",
    "                      'Data {data_time.val:.3f} ({data_time.avg:.3f})\\t'\n",
    "                      'Loss {loss.val:.4f} ({loss.avg:.4f})\\t'.format(\n",
    "                    (epoch + 1), (i + 1), len(train_sampler), batch_time=batch_time, data_time=data_time, loss=losses))\n",
    "            break\n",
    "        # deep copy the model\n",
    "        if phase == 'val' and epoch_acc > best_acc:\n",
    "            best_acc = epoch_acc\n",
    "            best_model_wts = copy.deepcopy(model.state_dict())\n",
    "        "
   ]
  },
  {
   "cell_type": "code",
   "execution_count": null,
   "metadata": {
    "ExecuteTime": {
     "end_time": "2019-03-12T04:25:57.336805Z",
     "start_time": "2019-03-12T04:25:52.495Z"
    }
   },
   "outputs": [],
   "source": [
    "# TODO\n",
    "# - EEG Dataloader, EEG Datasetの定義\n",
    "# - 実験に最適なML開発とはどんな構成か。データ・モデルのバージョン管理をいかに行うか"
   ]
  }
 ],
 "metadata": {
  "kernelspec": {
   "display_name": "kaggle",
   "language": "python",
   "name": "kaggle"
  },
  "language_info": {
   "codemirror_mode": {
    "name": "ipython",
    "version": 3
   },
   "file_extension": ".py",
   "mimetype": "text/x-python",
   "name": "python",
   "nbconvert_exporter": "python",
   "pygments_lexer": "ipython3",
   "version": "3.6.8"
  }
 },
 "nbformat": 4,
 "nbformat_minor": 2
}
